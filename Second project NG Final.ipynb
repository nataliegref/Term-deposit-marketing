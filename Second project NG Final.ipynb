{
 "cells": [
  {
   "cell_type": "markdown",
   "id": "24c1616f",
   "metadata": {},
   "source": [
    "# Project 2 \n",
    "## Goal(s):\n",
    "\n",
    "Predict if the customer will subscribe (yes/no) to a term deposit (variable y)\n",
    "\n",
    "## Success Metric(s):\n",
    "\n",
    "Hit %81 or above accuracy by evaluating with 5-fold cross validation and reporting the average performance score.\n",
    "\n",
    "## Bonus(es):\n",
    "\n",
    "We are also interested in finding customers who are more likely to buy the investment product. Determine the segment(s) of customers our client should prioritize.\n",
    "\n",
    "What makes the customers buy? Tell us which feature we should be focusing more on.\n",
    "\n",
    "Note: with help from https://www.kaggle.com/code/niklasdonges/end-to-end-project-with-python"
   ]
  },
  {
   "cell_type": "code",
   "execution_count": 1,
   "id": "468d8ab2",
   "metadata": {},
   "outputs": [],
   "source": [
    "# linear algebra\n",
    "import numpy as np \n",
    "\n",
    "# data processing\n",
    "import pandas as pd \n",
    "\n",
    "# data visualization\n",
    "import seaborn as sns\n",
    "%matplotlib inline\n",
    "from matplotlib import pyplot as plt\n",
    "from matplotlib import style\n",
    "\n",
    "# Algorithms\n",
    "from sklearn import linear_model\n",
    "from sklearn.linear_model import Perceptron\n",
    "from sklearn.linear_model import SGDClassifier\n",
    "from sklearn.svm import SVC, LinearSVC\n",
    "from sklearn.linear_model import LogisticRegression\n",
    "from sklearn.neighbors import KNeighborsClassifier\n",
    "from sklearn.tree import DecisionTreeClassifier\n",
    "from sklearn.ensemble import RandomForestClassifier\n",
    "from sklearn.ensemble import GradientBoostingClassifier\n",
    "from sklearn.naive_bayes import GaussianNB\n",
    "from sklearn.neural_network import MLPClassifier\n",
    "import xgboost as xgb\n",
    "\n",
    "\n",
    "#Cross validation\n",
    "from sklearn.model_selection import KFold, cross_val_score\n",
    "\n",
    "#Other\n",
    "from sklearn import metrics\n",
    "from sklearn.model_selection import train_test_split, GridSearchCV\n",
    "from sklearn.metrics import classification_report\n",
    "from sklearn.feature_selection import SelectKBest, chi2\n",
    "from sklearn.preprocessing import PolynomialFeatures\n",
    "from sklearn.preprocessing import StandardScaler\n",
    "from sklearn.metrics import accuracy_score\n",
    "\n",
    "#class imbalance\n",
    "from sklearn.metrics import f1_score\n",
    "from sklearn.utils import resample\n"
   ]
  },
  {
   "cell_type": "markdown",
   "id": "c90b19c0",
   "metadata": {},
   "source": [
    "# Loading data"
   ]
  },
  {
   "cell_type": "code",
   "execution_count": 2,
   "id": "5de0a11d",
   "metadata": {},
   "outputs": [],
   "source": [
    "og_data = pd.read_csv('term-deposit-marketing-2020.csv')\n",
    "data = og_data"
   ]
  },
  {
   "cell_type": "code",
   "execution_count": 3,
   "id": "034c161a",
   "metadata": {},
   "outputs": [
    {
     "name": "stdout",
     "output_type": "stream",
     "text": [
      "<class 'pandas.core.frame.DataFrame'>\n",
      "RangeIndex: 40000 entries, 0 to 39999\n",
      "Data columns (total 14 columns):\n",
      " #   Column     Non-Null Count  Dtype \n",
      "---  ------     --------------  ----- \n",
      " 0   age        40000 non-null  int64 \n",
      " 1   job        40000 non-null  object\n",
      " 2   marital    40000 non-null  object\n",
      " 3   education  40000 non-null  object\n",
      " 4   default    40000 non-null  object\n",
      " 5   balance    40000 non-null  int64 \n",
      " 6   housing    40000 non-null  object\n",
      " 7   loan       40000 non-null  object\n",
      " 8   contact    40000 non-null  object\n",
      " 9   day        40000 non-null  int64 \n",
      " 10  month      40000 non-null  object\n",
      " 11  duration   40000 non-null  int64 \n",
      " 12  campaign   40000 non-null  int64 \n",
      " 13  y          40000 non-null  object\n",
      "dtypes: int64(5), object(9)\n",
      "memory usage: 4.3+ MB\n"
     ]
    }
   ],
   "source": [
    "data.info()"
   ]
  },
  {
   "cell_type": "code",
   "execution_count": 64,
   "id": "9079eb94",
   "metadata": {},
   "outputs": [
    {
     "data": {
      "text/plain": [
       "Index(['age', 'job', 'marital', 'education', 'default', 'balance', 'housing',\n",
       "       'loan', 'contact', 'day', 'month', 'duration', 'campaign', 'y'],\n",
       "      dtype='object')"
      ]
     },
     "execution_count": 64,
     "metadata": {},
     "output_type": "execute_result"
    }
   ],
   "source": [
    "data.columns"
   ]
  },
  {
   "cell_type": "code",
   "execution_count": 5,
   "id": "e1bf1bfa",
   "metadata": {},
   "outputs": [
    {
     "data": {
      "text/html": [
       "<div>\n",
       "<style scoped>\n",
       "    .dataframe tbody tr th:only-of-type {\n",
       "        vertical-align: middle;\n",
       "    }\n",
       "\n",
       "    .dataframe tbody tr th {\n",
       "        vertical-align: top;\n",
       "    }\n",
       "\n",
       "    .dataframe thead th {\n",
       "        text-align: right;\n",
       "    }\n",
       "</style>\n",
       "<table border=\"1\" class=\"dataframe\">\n",
       "  <thead>\n",
       "    <tr style=\"text-align: right;\">\n",
       "      <th></th>\n",
       "      <th>age</th>\n",
       "      <th>balance</th>\n",
       "      <th>day</th>\n",
       "      <th>duration</th>\n",
       "      <th>campaign</th>\n",
       "    </tr>\n",
       "  </thead>\n",
       "  <tbody>\n",
       "    <tr>\n",
       "      <th>count</th>\n",
       "      <td>40000.000000</td>\n",
       "      <td>40000.000000</td>\n",
       "      <td>40000.000000</td>\n",
       "      <td>40000.000000</td>\n",
       "      <td>40000.000000</td>\n",
       "    </tr>\n",
       "    <tr>\n",
       "      <th>mean</th>\n",
       "      <td>40.544600</td>\n",
       "      <td>1274.277550</td>\n",
       "      <td>16.017225</td>\n",
       "      <td>254.824300</td>\n",
       "      <td>2.882175</td>\n",
       "    </tr>\n",
       "    <tr>\n",
       "      <th>std</th>\n",
       "      <td>9.641776</td>\n",
       "      <td>2903.769716</td>\n",
       "      <td>8.278127</td>\n",
       "      <td>259.366498</td>\n",
       "      <td>3.239051</td>\n",
       "    </tr>\n",
       "    <tr>\n",
       "      <th>min</th>\n",
       "      <td>19.000000</td>\n",
       "      <td>-8019.000000</td>\n",
       "      <td>1.000000</td>\n",
       "      <td>0.000000</td>\n",
       "      <td>1.000000</td>\n",
       "    </tr>\n",
       "    <tr>\n",
       "      <th>25%</th>\n",
       "      <td>33.000000</td>\n",
       "      <td>54.000000</td>\n",
       "      <td>8.000000</td>\n",
       "      <td>100.000000</td>\n",
       "      <td>1.000000</td>\n",
       "    </tr>\n",
       "    <tr>\n",
       "      <th>50%</th>\n",
       "      <td>39.000000</td>\n",
       "      <td>407.000000</td>\n",
       "      <td>17.000000</td>\n",
       "      <td>175.000000</td>\n",
       "      <td>2.000000</td>\n",
       "    </tr>\n",
       "    <tr>\n",
       "      <th>75%</th>\n",
       "      <td>48.000000</td>\n",
       "      <td>1319.000000</td>\n",
       "      <td>21.000000</td>\n",
       "      <td>313.000000</td>\n",
       "      <td>3.000000</td>\n",
       "    </tr>\n",
       "    <tr>\n",
       "      <th>max</th>\n",
       "      <td>95.000000</td>\n",
       "      <td>102127.000000</td>\n",
       "      <td>31.000000</td>\n",
       "      <td>4918.000000</td>\n",
       "      <td>63.000000</td>\n",
       "    </tr>\n",
       "  </tbody>\n",
       "</table>\n",
       "</div>"
      ],
      "text/plain": [
       "                age        balance           day      duration      campaign\n",
       "count  40000.000000   40000.000000  40000.000000  40000.000000  40000.000000\n",
       "mean      40.544600    1274.277550     16.017225    254.824300      2.882175\n",
       "std        9.641776    2903.769716      8.278127    259.366498      3.239051\n",
       "min       19.000000   -8019.000000      1.000000      0.000000      1.000000\n",
       "25%       33.000000      54.000000      8.000000    100.000000      1.000000\n",
       "50%       39.000000     407.000000     17.000000    175.000000      2.000000\n",
       "75%       48.000000    1319.000000     21.000000    313.000000      3.000000\n",
       "max       95.000000  102127.000000     31.000000   4918.000000     63.000000"
      ]
     },
     "execution_count": 5,
     "metadata": {},
     "output_type": "execute_result"
    }
   ],
   "source": [
    "data.describe()"
   ]
  },
  {
   "cell_type": "code",
   "execution_count": 6,
   "id": "ebf9a380",
   "metadata": {},
   "outputs": [
    {
     "data": {
      "text/html": [
       "<div>\n",
       "<style scoped>\n",
       "    .dataframe tbody tr th:only-of-type {\n",
       "        vertical-align: middle;\n",
       "    }\n",
       "\n",
       "    .dataframe tbody tr th {\n",
       "        vertical-align: top;\n",
       "    }\n",
       "\n",
       "    .dataframe thead th {\n",
       "        text-align: right;\n",
       "    }\n",
       "</style>\n",
       "<table border=\"1\" class=\"dataframe\">\n",
       "  <thead>\n",
       "    <tr style=\"text-align: right;\">\n",
       "      <th></th>\n",
       "      <th>age</th>\n",
       "      <th>job</th>\n",
       "      <th>marital</th>\n",
       "      <th>education</th>\n",
       "      <th>default</th>\n",
       "      <th>balance</th>\n",
       "      <th>housing</th>\n",
       "      <th>loan</th>\n",
       "      <th>contact</th>\n",
       "      <th>day</th>\n",
       "      <th>month</th>\n",
       "      <th>duration</th>\n",
       "      <th>campaign</th>\n",
       "      <th>y</th>\n",
       "    </tr>\n",
       "  </thead>\n",
       "  <tbody>\n",
       "    <tr>\n",
       "      <th>0</th>\n",
       "      <td>58</td>\n",
       "      <td>management</td>\n",
       "      <td>married</td>\n",
       "      <td>tertiary</td>\n",
       "      <td>no</td>\n",
       "      <td>2143</td>\n",
       "      <td>yes</td>\n",
       "      <td>no</td>\n",
       "      <td>unknown</td>\n",
       "      <td>5</td>\n",
       "      <td>may</td>\n",
       "      <td>261</td>\n",
       "      <td>1</td>\n",
       "      <td>no</td>\n",
       "    </tr>\n",
       "    <tr>\n",
       "      <th>1</th>\n",
       "      <td>44</td>\n",
       "      <td>technician</td>\n",
       "      <td>single</td>\n",
       "      <td>secondary</td>\n",
       "      <td>no</td>\n",
       "      <td>29</td>\n",
       "      <td>yes</td>\n",
       "      <td>no</td>\n",
       "      <td>unknown</td>\n",
       "      <td>5</td>\n",
       "      <td>may</td>\n",
       "      <td>151</td>\n",
       "      <td>1</td>\n",
       "      <td>no</td>\n",
       "    </tr>\n",
       "    <tr>\n",
       "      <th>2</th>\n",
       "      <td>33</td>\n",
       "      <td>entrepreneur</td>\n",
       "      <td>married</td>\n",
       "      <td>secondary</td>\n",
       "      <td>no</td>\n",
       "      <td>2</td>\n",
       "      <td>yes</td>\n",
       "      <td>yes</td>\n",
       "      <td>unknown</td>\n",
       "      <td>5</td>\n",
       "      <td>may</td>\n",
       "      <td>76</td>\n",
       "      <td>1</td>\n",
       "      <td>no</td>\n",
       "    </tr>\n",
       "    <tr>\n",
       "      <th>3</th>\n",
       "      <td>47</td>\n",
       "      <td>blue-collar</td>\n",
       "      <td>married</td>\n",
       "      <td>unknown</td>\n",
       "      <td>no</td>\n",
       "      <td>1506</td>\n",
       "      <td>yes</td>\n",
       "      <td>no</td>\n",
       "      <td>unknown</td>\n",
       "      <td>5</td>\n",
       "      <td>may</td>\n",
       "      <td>92</td>\n",
       "      <td>1</td>\n",
       "      <td>no</td>\n",
       "    </tr>\n",
       "    <tr>\n",
       "      <th>4</th>\n",
       "      <td>33</td>\n",
       "      <td>unknown</td>\n",
       "      <td>single</td>\n",
       "      <td>unknown</td>\n",
       "      <td>no</td>\n",
       "      <td>1</td>\n",
       "      <td>no</td>\n",
       "      <td>no</td>\n",
       "      <td>unknown</td>\n",
       "      <td>5</td>\n",
       "      <td>may</td>\n",
       "      <td>198</td>\n",
       "      <td>1</td>\n",
       "      <td>no</td>\n",
       "    </tr>\n",
       "    <tr>\n",
       "      <th>5</th>\n",
       "      <td>35</td>\n",
       "      <td>management</td>\n",
       "      <td>married</td>\n",
       "      <td>tertiary</td>\n",
       "      <td>no</td>\n",
       "      <td>231</td>\n",
       "      <td>yes</td>\n",
       "      <td>no</td>\n",
       "      <td>unknown</td>\n",
       "      <td>5</td>\n",
       "      <td>may</td>\n",
       "      <td>139</td>\n",
       "      <td>1</td>\n",
       "      <td>no</td>\n",
       "    </tr>\n",
       "    <tr>\n",
       "      <th>6</th>\n",
       "      <td>28</td>\n",
       "      <td>management</td>\n",
       "      <td>single</td>\n",
       "      <td>tertiary</td>\n",
       "      <td>no</td>\n",
       "      <td>447</td>\n",
       "      <td>yes</td>\n",
       "      <td>yes</td>\n",
       "      <td>unknown</td>\n",
       "      <td>5</td>\n",
       "      <td>may</td>\n",
       "      <td>217</td>\n",
       "      <td>1</td>\n",
       "      <td>no</td>\n",
       "    </tr>\n",
       "    <tr>\n",
       "      <th>7</th>\n",
       "      <td>42</td>\n",
       "      <td>entrepreneur</td>\n",
       "      <td>divorced</td>\n",
       "      <td>tertiary</td>\n",
       "      <td>yes</td>\n",
       "      <td>2</td>\n",
       "      <td>yes</td>\n",
       "      <td>no</td>\n",
       "      <td>unknown</td>\n",
       "      <td>5</td>\n",
       "      <td>may</td>\n",
       "      <td>380</td>\n",
       "      <td>1</td>\n",
       "      <td>no</td>\n",
       "    </tr>\n",
       "    <tr>\n",
       "      <th>8</th>\n",
       "      <td>58</td>\n",
       "      <td>retired</td>\n",
       "      <td>married</td>\n",
       "      <td>primary</td>\n",
       "      <td>no</td>\n",
       "      <td>121</td>\n",
       "      <td>yes</td>\n",
       "      <td>no</td>\n",
       "      <td>unknown</td>\n",
       "      <td>5</td>\n",
       "      <td>may</td>\n",
       "      <td>50</td>\n",
       "      <td>1</td>\n",
       "      <td>no</td>\n",
       "    </tr>\n",
       "    <tr>\n",
       "      <th>9</th>\n",
       "      <td>43</td>\n",
       "      <td>technician</td>\n",
       "      <td>single</td>\n",
       "      <td>secondary</td>\n",
       "      <td>no</td>\n",
       "      <td>593</td>\n",
       "      <td>yes</td>\n",
       "      <td>no</td>\n",
       "      <td>unknown</td>\n",
       "      <td>5</td>\n",
       "      <td>may</td>\n",
       "      <td>55</td>\n",
       "      <td>1</td>\n",
       "      <td>no</td>\n",
       "    </tr>\n",
       "    <tr>\n",
       "      <th>10</th>\n",
       "      <td>41</td>\n",
       "      <td>admin</td>\n",
       "      <td>divorced</td>\n",
       "      <td>secondary</td>\n",
       "      <td>no</td>\n",
       "      <td>270</td>\n",
       "      <td>yes</td>\n",
       "      <td>no</td>\n",
       "      <td>unknown</td>\n",
       "      <td>5</td>\n",
       "      <td>may</td>\n",
       "      <td>222</td>\n",
       "      <td>1</td>\n",
       "      <td>no</td>\n",
       "    </tr>\n",
       "    <tr>\n",
       "      <th>11</th>\n",
       "      <td>29</td>\n",
       "      <td>admin</td>\n",
       "      <td>single</td>\n",
       "      <td>secondary</td>\n",
       "      <td>no</td>\n",
       "      <td>390</td>\n",
       "      <td>yes</td>\n",
       "      <td>no</td>\n",
       "      <td>unknown</td>\n",
       "      <td>5</td>\n",
       "      <td>may</td>\n",
       "      <td>137</td>\n",
       "      <td>1</td>\n",
       "      <td>no</td>\n",
       "    </tr>\n",
       "    <tr>\n",
       "      <th>12</th>\n",
       "      <td>53</td>\n",
       "      <td>technician</td>\n",
       "      <td>married</td>\n",
       "      <td>secondary</td>\n",
       "      <td>no</td>\n",
       "      <td>6</td>\n",
       "      <td>yes</td>\n",
       "      <td>no</td>\n",
       "      <td>unknown</td>\n",
       "      <td>5</td>\n",
       "      <td>may</td>\n",
       "      <td>517</td>\n",
       "      <td>1</td>\n",
       "      <td>no</td>\n",
       "    </tr>\n",
       "    <tr>\n",
       "      <th>13</th>\n",
       "      <td>58</td>\n",
       "      <td>technician</td>\n",
       "      <td>married</td>\n",
       "      <td>unknown</td>\n",
       "      <td>no</td>\n",
       "      <td>71</td>\n",
       "      <td>yes</td>\n",
       "      <td>no</td>\n",
       "      <td>unknown</td>\n",
       "      <td>5</td>\n",
       "      <td>may</td>\n",
       "      <td>71</td>\n",
       "      <td>1</td>\n",
       "      <td>no</td>\n",
       "    </tr>\n",
       "    <tr>\n",
       "      <th>14</th>\n",
       "      <td>57</td>\n",
       "      <td>services</td>\n",
       "      <td>married</td>\n",
       "      <td>secondary</td>\n",
       "      <td>no</td>\n",
       "      <td>162</td>\n",
       "      <td>yes</td>\n",
       "      <td>no</td>\n",
       "      <td>unknown</td>\n",
       "      <td>5</td>\n",
       "      <td>may</td>\n",
       "      <td>174</td>\n",
       "      <td>1</td>\n",
       "      <td>no</td>\n",
       "    </tr>\n",
       "  </tbody>\n",
       "</table>\n",
       "</div>"
      ],
      "text/plain": [
       "    age           job   marital  education default  balance housing loan  \\\n",
       "0    58    management   married   tertiary      no     2143     yes   no   \n",
       "1    44    technician    single  secondary      no       29     yes   no   \n",
       "2    33  entrepreneur   married  secondary      no        2     yes  yes   \n",
       "3    47   blue-collar   married    unknown      no     1506     yes   no   \n",
       "4    33       unknown    single    unknown      no        1      no   no   \n",
       "5    35    management   married   tertiary      no      231     yes   no   \n",
       "6    28    management    single   tertiary      no      447     yes  yes   \n",
       "7    42  entrepreneur  divorced   tertiary     yes        2     yes   no   \n",
       "8    58       retired   married    primary      no      121     yes   no   \n",
       "9    43    technician    single  secondary      no      593     yes   no   \n",
       "10   41         admin  divorced  secondary      no      270     yes   no   \n",
       "11   29         admin    single  secondary      no      390     yes   no   \n",
       "12   53    technician   married  secondary      no        6     yes   no   \n",
       "13   58    technician   married    unknown      no       71     yes   no   \n",
       "14   57      services   married  secondary      no      162     yes   no   \n",
       "\n",
       "    contact  day month  duration  campaign   y  \n",
       "0   unknown    5   may       261         1  no  \n",
       "1   unknown    5   may       151         1  no  \n",
       "2   unknown    5   may        76         1  no  \n",
       "3   unknown    5   may        92         1  no  \n",
       "4   unknown    5   may       198         1  no  \n",
       "5   unknown    5   may       139         1  no  \n",
       "6   unknown    5   may       217         1  no  \n",
       "7   unknown    5   may       380         1  no  \n",
       "8   unknown    5   may        50         1  no  \n",
       "9   unknown    5   may        55         1  no  \n",
       "10  unknown    5   may       222         1  no  \n",
       "11  unknown    5   may       137         1  no  \n",
       "12  unknown    5   may       517         1  no  \n",
       "13  unknown    5   may        71         1  no  \n",
       "14  unknown    5   may       174         1  no  "
      ]
     },
     "execution_count": 6,
     "metadata": {},
     "output_type": "execute_result"
    }
   ],
   "source": [
    "data.head(15)"
   ]
  },
  {
   "cell_type": "code",
   "execution_count": 7,
   "id": "3392ab1c",
   "metadata": {},
   "outputs": [
    {
     "name": "stdout",
     "output_type": "stream",
     "text": [
      "37104\n",
      "2896\n",
      "7.24\n"
     ]
    }
   ],
   "source": [
    "no = data[data['y'] == 'no']\n",
    "yes = data[data['y'] == 'yes']\n",
    "\n",
    "print(len(no))\n",
    "print(len(yes))\n",
    "print((len(yes)/(len(no)+len(yes)))*100)"
   ]
  },
  {
   "cell_type": "markdown",
   "id": "a86dd418",
   "metadata": {},
   "source": [
    "7% of the data set is Y = 'yes'. There are 40'000 entries and 13 features: 'age', 'job', 'marital', 'education', 'default', 'balance', 'housing', 'loan', 'contact', 'day', 'month', 'duration', 'campaign'"
   ]
  },
  {
   "cell_type": "code",
   "execution_count": 8,
   "id": "691275f0",
   "metadata": {},
   "outputs": [
    {
     "data": {
      "text/html": [
       "<div>\n",
       "<style scoped>\n",
       "    .dataframe tbody tr th:only-of-type {\n",
       "        vertical-align: middle;\n",
       "    }\n",
       "\n",
       "    .dataframe tbody tr th {\n",
       "        vertical-align: top;\n",
       "    }\n",
       "\n",
       "    .dataframe thead th {\n",
       "        text-align: right;\n",
       "    }\n",
       "</style>\n",
       "<table border=\"1\" class=\"dataframe\">\n",
       "  <thead>\n",
       "    <tr style=\"text-align: right;\">\n",
       "      <th></th>\n",
       "      <th>Total</th>\n",
       "      <th>%</th>\n",
       "    </tr>\n",
       "  </thead>\n",
       "  <tbody>\n",
       "    <tr>\n",
       "      <th>age</th>\n",
       "      <td>0</td>\n",
       "      <td>0.0</td>\n",
       "    </tr>\n",
       "    <tr>\n",
       "      <th>job</th>\n",
       "      <td>0</td>\n",
       "      <td>0.0</td>\n",
       "    </tr>\n",
       "    <tr>\n",
       "      <th>marital</th>\n",
       "      <td>0</td>\n",
       "      <td>0.0</td>\n",
       "    </tr>\n",
       "    <tr>\n",
       "      <th>education</th>\n",
       "      <td>0</td>\n",
       "      <td>0.0</td>\n",
       "    </tr>\n",
       "    <tr>\n",
       "      <th>default</th>\n",
       "      <td>0</td>\n",
       "      <td>0.0</td>\n",
       "    </tr>\n",
       "  </tbody>\n",
       "</table>\n",
       "</div>"
      ],
      "text/plain": [
       "           Total    %\n",
       "age            0  0.0\n",
       "job            0  0.0\n",
       "marital        0  0.0\n",
       "education      0  0.0\n",
       "default        0  0.0"
      ]
     },
     "execution_count": 8,
     "metadata": {},
     "output_type": "execute_result"
    }
   ],
   "source": [
    "total = data.isnull().sum().sort_values(ascending=False)\n",
    "percent_1 = data.isnull().sum()/data.isnull().count()*100\n",
    "percent_2 = (round(percent_1, 1)).sort_values(ascending=False)\n",
    "missing_data = pd.concat([total, percent_2], axis=1, keys=['Total', '%'])\n",
    "missing_data.head(5)"
   ]
  },
  {
   "cell_type": "markdown",
   "id": "3f5bd0af",
   "metadata": {},
   "source": [
    "No null/missing data"
   ]
  },
  {
   "cell_type": "markdown",
   "id": "82e5746d",
   "metadata": {},
   "source": [
    "age : age of customer (numeric)\n",
    "\n",
    "job : type of job (categorical)\n",
    "\n",
    "marital : marital status (categorical)\n",
    "\n",
    "education (categorical)\n",
    "\n",
    "default: has credit in default? (binary)\n",
    "\n",
    "balance: average yearly balance, in euros (numeric)\n",
    "\n",
    "housing: has a housing loan? (binary)\n",
    "\n",
    "loan: has personal loan? (binary)\n",
    "\n",
    "contact: contact communication type (categorical)\n",
    "\n",
    "day: last contact day of the month (numeric)\n",
    "\n",
    "month: last contact month of year (categorical)\n",
    "\n",
    "duration: last contact duration, in seconds (numeric)\n",
    "\n",
    "campaign: number of contacts performed during this campaign and for this client (numeric, includes last contact)"
   ]
  },
  {
   "cell_type": "code",
   "execution_count": 9,
   "id": "71350aab",
   "metadata": {},
   "outputs": [],
   "source": [
    "feature_cols = ['age', 'job', 'marital', 'education', 'default', 'balance', 'housing',\n",
    "       'loan', 'contact', 'day', 'month', 'duration', 'campaign']"
   ]
  },
  {
   "cell_type": "code",
   "execution_count": 10,
   "id": "4ea6ee4f",
   "metadata": {},
   "outputs": [
    {
     "name": "stdout",
     "output_type": "stream",
     "text": [
      "age:  [58 44 33 47 35 28 42 43 41 29 53 57 51 45 60 56 32 25 40 39 52 46 36 49\n",
      " 59 37 50 54 55 48 24 38 31 30 27 34 23 26 61 22 21 20 66 62 83 75 67 70\n",
      " 65 68 64 69 72 71 19 76 85 63 90 82 73 74 78 80 94 79 77 86 95 81]\n",
      "job:  ['management' 'technician' 'entrepreneur' 'blue-collar' 'unknown'\n",
      " 'retired' 'admin' 'services' 'self-employed' 'unemployed' 'housemaid'\n",
      " 'student']\n",
      "marital:  ['married' 'single' 'divorced']\n",
      "education:  ['tertiary' 'secondary' 'unknown' 'primary']\n",
      "default:  ['no' 'yes']\n",
      "balance:  [  2143     29      2 ...   7222   3402 102127]\n",
      "housing:  ['yes' 'no']\n",
      "loan:  ['no' 'yes']\n",
      "contact:  ['unknown' 'cellular' 'telephone']\n",
      "day:  [ 5  6  7  8  9 12 13 14 15 16 19 20 21 23 26 27 28 29 30  2  3  4 11 17\n",
      " 18 24 25  1 10 22 31]\n",
      "month:  ['may' 'jun' 'jul' 'aug' 'oct' 'nov' 'dec' 'jan' 'feb' 'mar' 'apr']\n",
      "duration:  [ 261  151   76 ... 1880 1460 2219]\n",
      "campagn:  [ 1  2  3  5  4  6  7  8  9 10 11 12 13 19 14 24 16 32 18 22 15 17 25 21\n",
      " 43 51 63 41 26 28 55 50 38 23 20 29 31 37 30 46 27 58 33 35 34 36 39 44]\n",
      "y:  ['no' 'yes']\n"
     ]
    }
   ],
   "source": [
    "print('age: ', data.age.unique())\n",
    "print('job: ', data.job.unique())\n",
    "print('marital: ', data.marital.unique())\n",
    "print('education: ', data.education.unique())\n",
    "print('default: ', data.default.unique())\n",
    "print('balance: ', data.balance.unique())\n",
    "print('housing: ', data.housing.unique())\n",
    "print('loan: ', data.loan.unique())\n",
    "print('contact: ', data.contact.unique())\n",
    "print('day: ', data.day.unique())\n",
    "print('month: ', data.month.unique())\n",
    "print('duration: ', data.duration.unique())\n",
    "print('campagn: ', data.campaign.unique())\n",
    "print('y: ', data.y.unique())"
   ]
  },
  {
   "cell_type": "code",
   "execution_count": 82,
   "id": "693437f2",
   "metadata": {},
   "outputs": [
    {
     "data": {
      "text/plain": [
       "Text(0.5, 1.0, 'Yes')"
      ]
     },
     "execution_count": 82,
     "metadata": {},
     "output_type": "execute_result"
    },
    {
     "data": {
      "image/png": "[encoded data removed]",
      "text/plain": [
       "<Figure size 720x288 with 2 Axes>"
      ]
     },
     "metadata": {
      "needs_background": "light"
     },
     "output_type": "display_data"
    }
   ],
   "source": [
    "feature = 'duration'\n",
    "\n",
    "fig, axes = plt.subplots(nrows=1, ncols=2,figsize=(10, 4))\n",
    "ax = sns.histplot(data = no, x=feature, ax = axes[0], color = 'r')\n",
    "ax.set_title('No')\n",
    "ax = sns.histplot(data = yes, x=feature, ax = axes[1], color = 'b')\n",
    "ax.set_title('Yes')"
   ]
  },
  {
   "cell_type": "code",
   "execution_count": 83,
   "id": "02439527",
   "metadata": {},
   "outputs": [
    {
     "data": {
      "text/plain": [
       "Text(0.5, 1.0, 'Yes')"
      ]
     },
     "execution_count": 83,
     "metadata": {},
     "output_type": "execute_result"
    },
    {
     "data": {
      "image/png": "[encoded data removed]",
      "text/plain": [
       "<Figure size 720x288 with 2 Axes>"
      ]
     },
     "metadata": {
      "needs_background": "light"
     },
     "output_type": "display_data"
    }
   ],
   "source": [
    "feature = 'balance'\n",
    "\n",
    "fig, axes = plt.subplots(nrows=1, ncols=2,figsize=(10, 4))\n",
    "ax = sns.histplot(data = no, x=feature, ax = axes[0], color = 'r')\n",
    "ax.set_title('No')\n",
    "ax = sns.histplot(data = yes, x=feature, ax = axes[1], color = 'b')\n",
    "ax.set_title('Yes')"
   ]
  },
  {
   "cell_type": "code",
   "execution_count": 84,
   "id": "3d9eed65",
   "metadata": {},
   "outputs": [
    {
     "data": {
      "text/plain": [
       "Text(0.5, 1.0, 'Yes')"
      ]
     },
     "execution_count": 84,
     "metadata": {},
     "output_type": "execute_result"
    },
    {
     "data": {
      "image/png": "[encoded data removed]",
      "text/plain": [
       "<Figure size 720x288 with 2 Axes>"
      ]
     },
     "metadata": {
      "needs_background": "light"
     },
     "output_type": "display_data"
    }
   ],
   "source": [
    "feature = 'age'\n",
    "fig, axes = plt.subplots(nrows=1, ncols=2,figsize=(10, 4))\n",
    "ax = sns.histplot(data = no, x=feature, ax = axes[0], color = 'r')\n",
    "ax.set_title('No')\n",
    "ax = sns.histplot(data = yes, x=feature, ax = axes[1], color = 'b')\n",
    "ax.set_title('Yes') "
   ]
  },
  {
   "cell_type": "code",
   "execution_count": 81,
   "id": "a1e83923",
   "metadata": {},
   "outputs": [],
   "source": [
    "feature = 'job'\n",
    "fig, axes = plt.subplots(nrows=1, ncols=2,figsize=(10, 4))\n",
    "ax = sns.histplot(data = no, x=feature, ax = axes[0], color = 'r')\n",
    "ax.set_title('No')\n",
    "ax = sns.histplot(data = yes, x=feature, ax = axes[1], color = 'b')\n",
    "ax.set_title('Yes')"
   ]
  },
  {
   "cell_type": "code",
   "execution_count": null,
   "id": "62c3441a",
   "metadata": {},
   "outputs": [],
   "source": [
    "feature = 'marital'\n",
    "fig, axes = plt.subplots(nrows=1, ncols=2,figsize=(10, 4))\n",
    "ax = sns.histplot(data = no, x=feature, ax = axes[0], color = 'r')\n",
    "ax.set_title('No')\n",
    "ax = sns.histplot(data = yes, x=feature, ax = axes[1], color = 'b')\n",
    "ax.set_title('Yes')"
   ]
  },
  {
   "cell_type": "code",
   "execution_count": null,
   "id": "4340de96",
   "metadata": {},
   "outputs": [],
   "source": [
    "feature = 'education'\n",
    "fig, axes = plt.subplots(nrows=1, ncols=2,figsize=(10, 4))\n",
    "ax = sns.histplot(data = no, x=feature, ax = axes[0], color = 'r')\n",
    "ax.set_title('No')\n",
    "ax = sns.histplot(data = yes, x=feature, ax = axes[1], color = 'b')\n",
    "ax.set_title('Yes')"
   ]
  },
  {
   "cell_type": "code",
   "execution_count": null,
   "id": "91958cb1",
   "metadata": {},
   "outputs": [],
   "source": [
    "feature = 'default'\n",
    "\n",
    "fig, axes = plt.subplots(nrows=1, ncols=2,figsize=(10, 4))\n",
    "ax = sns.histplot(data = no, x=feature, ax = axes[0], color = 'r')\n",
    "ax.set_title('No')\n",
    "ax = sns.histplot(data = yes, x=feature, ax = axes[1], color = 'b')\n",
    "ax.set_title('Yes')"
   ]
  },
  {
   "cell_type": "code",
   "execution_count": null,
   "id": "8004b84f",
   "metadata": {},
   "outputs": [],
   "source": [
    "feature = 'housing'\n",
    "\n",
    "fig, axes = plt.subplots(nrows=1, ncols=2,figsize=(10, 4))\n",
    "ax = sns.histplot(data = no, x=feature, ax = axes[0], color = 'r')\n",
    "ax.set_title('No')\n",
    "ax = sns.histplot(data = yes, x=feature, ax = axes[1], color = 'b')\n",
    "ax.set_title('Yes')"
   ]
  },
  {
   "cell_type": "code",
   "execution_count": null,
   "id": "68f0c903",
   "metadata": {},
   "outputs": [],
   "source": [
    "feature = 'loan'\n",
    "\n",
    "fig, axes = plt.subplots(nrows=1, ncols=2,figsize=(10, 4))\n",
    "ax = sns.histplot(data = no, x=feature, ax = axes[0], color = 'r')\n",
    "ax.set_title('No')\n",
    "ax = sns.histplot(data = yes, x=feature, ax = axes[1], color = 'b')\n",
    "ax.set_title('Yes')"
   ]
  },
  {
   "cell_type": "code",
   "execution_count": null,
   "id": "ecfc1875",
   "metadata": {},
   "outputs": [],
   "source": [
    "feature = 'contact'\n",
    "\n",
    "fig, axes = plt.subplots(nrows=1, ncols=2,figsize=(10, 4))\n",
    "ax = sns.histplot(data = no, x=feature, ax = axes[0], color = 'r')\n",
    "ax.set_title('No')\n",
    "ax = sns.histplot(data = yes, x=feature, ax = axes[1], color = 'b')\n",
    "ax.set_title('Yes')"
   ]
  },
  {
   "cell_type": "code",
   "execution_count": null,
   "id": "ef4e8f14",
   "metadata": {},
   "outputs": [],
   "source": [
    "feature = 'day'\n",
    "\n",
    "fig, axes = plt.subplots(nrows=1, ncols=2,figsize=(10, 4))\n",
    "ax = sns.histplot(data = no, x=feature, ax = axes[0], color = 'r')\n",
    "ax.set_title('No')\n",
    "ax = sns.histplot(data = yes, x=feature, ax = axes[1], color = 'b')\n",
    "ax.set_title('Yes')"
   ]
  },
  {
   "cell_type": "code",
   "execution_count": null,
   "id": "f40cd128",
   "metadata": {},
   "outputs": [],
   "source": [
    "feature = 'month'\n",
    "\n",
    "fig, axes = plt.subplots(nrows=1, ncols=2,figsize=(10, 4))\n",
    "ax = sns.histplot(data = no, x=feature, ax = axes[0], color = 'r')\n",
    "ax.set_title('No')\n",
    "ax = sns.histplot(data = yes, x=feature, ax = axes[1], color = 'b')\n",
    "ax.set_title('Yes')"
   ]
  },
  {
   "cell_type": "code",
   "execution_count": null,
   "id": "353afb6a",
   "metadata": {},
   "outputs": [],
   "source": [
    "feature = 'campaign'\n",
    "\n",
    "fig, axes = plt.subplots(nrows=1, ncols=2,figsize=(10, 4))\n",
    "ax = sns.histplot(data = no, x=feature, ax = axes[0], color = 'r')\n",
    "ax.set_title('No')\n",
    "ax = sns.histplot(data = yes, x=feature, ax = axes[1], color = 'b')\n",
    "ax.set_title('Yes')"
   ]
  },
  {
   "cell_type": "markdown",
   "id": "ae282606",
   "metadata": {},
   "source": [
    "# Marital and age"
   ]
  },
  {
   "cell_type": "code",
   "execution_count": null,
   "id": "e9c32bd2",
   "metadata": {},
   "outputs": [],
   "source": [
    "fig, axes = plt.subplots(nrows=1, ncols=3,figsize=(10, 4))\n",
    "married = data[data['marital']=='married']\n",
    "single = data[data['marital']=='single']\n",
    "divorced = data[data['marital']=='divorced']\n",
    "ax = sns.distplot(married[married['y']=='no'].age, bins=18, label = 'no', ax = axes[0], kde =False)\n",
    "ax = sns.distplot(married[married['y']=='yes'].age, bins=18, label = 'yes', ax = axes[0], kde =False)\n",
    "ax.legend()\n",
    "ax.set_title('Married')\n",
    "ax = sns.distplot(single[single['y']=='no'].age, bins=18, label = 'no', ax = axes[1], kde =False)\n",
    "ax = sns.distplot(single[single['y']=='yes'].age, bins=18, label = 'yes', ax = axes[1], kde =False)\n",
    "ax.legend()\n",
    "ax.set_title('Single')\n",
    "ax = sns.distplot(divorced[divorced['y']=='no'].age, bins=18, label = 'no', ax = axes[2], kde =False)\n",
    "ax = sns.distplot(divorced[divorced['y']=='yes'].age, bins=18, label = 'yes', ax = axes[2], kde =False)\n",
    "ax.legend()\n",
    "ax.set_title('Divorced')"
   ]
  },
  {
   "cell_type": "markdown",
   "id": "182e371f",
   "metadata": {},
   "source": [
    "No missing data"
   ]
  },
  {
   "cell_type": "code",
   "execution_count": null,
   "id": "cccd3064",
   "metadata": {},
   "outputs": [],
   "source": [
    "data.info()"
   ]
  },
  {
   "cell_type": "markdown",
   "id": "e683fb73",
   "metadata": {},
   "source": [
    "# Making numerical"
   ]
  },
  {
   "cell_type": "code",
   "execution_count": 13,
   "id": "bd1bf07b",
   "metadata": {},
   "outputs": [
    {
     "name": "stdout",
     "output_type": "stream",
     "text": [
      "age:  [58 44 33 47 35 28 42 43 41 29 53 57 51 45 60 56 32 25 40 39 52 46 36 49\n",
      " 59 37 50 54 55 48 24 38 31 30 27 34 23 26 61 22 21 20 66 62 83 75 67 70\n",
      " 65 68 64 69 72 71 19 76 85 63 90 82 73 74 78 80 94 79 77 86 95 81]\n",
      "job:  ['management' 'technician' 'entrepreneur' 'blue-collar' 'unknown'\n",
      " 'retired' 'admin' 'services' 'self-employed' 'unemployed' 'housemaid'\n",
      " 'student']\n",
      "marital:  ['married' 'single' 'divorced']\n",
      "education:  ['tertiary' 'secondary' 'unknown' 'primary']\n",
      "default:  ['no' 'yes']\n",
      "balance:  [  2143     29      2 ...   7222   3402 102127]\n",
      "housing:  ['yes' 'no']\n",
      "loan:  ['no' 'yes']\n",
      "contact:  ['unknown' 'cellular' 'telephone']\n",
      "day:  [ 5  6  7  8  9 12 13 14 15 16 19 20 21 23 26 27 28 29 30  2  3  4 11 17\n",
      " 18 24 25  1 10 22 31]\n",
      "month:  ['may' 'jun' 'jul' 'aug' 'oct' 'nov' 'dec' 'jan' 'feb' 'mar' 'apr']\n",
      "duration:  [ 261  151   76 ... 1880 1460 2219]\n",
      "campagn:  [ 1  2  3  5  4  6  7  8  9 10 11 12 13 19 14 24 16 32 18 22 15 17 25 21\n",
      " 43 51 63 41 26 28 55 50 38 23 20 29 31 37 30 46 27 58 33 35 34 36 39 44]\n",
      "y:  ['no' 'yes']\n"
     ]
    }
   ],
   "source": [
    "#reminder\n",
    "print('age: ', data.age.unique())\n",
    "print('job: ', data.job.unique())\n",
    "print('marital: ', data.marital.unique())\n",
    "print('education: ', data.education.unique())\n",
    "print('default: ', data.default.unique())\n",
    "print('balance: ', data.balance.unique())\n",
    "print('housing: ', data.housing.unique())\n",
    "print('loan: ', data.loan.unique())\n",
    "print('contact: ', data.contact.unique())\n",
    "print('day: ', data.day.unique())\n",
    "print('month: ', data.month.unique())\n",
    "print('duration: ', data.duration.unique())\n",
    "print('campagn: ', data.campaign.unique())\n",
    "print('y: ', data.y.unique())"
   ]
  },
  {
   "cell_type": "code",
   "execution_count": 14,
   "id": "ea179b35",
   "metadata": {},
   "outputs": [],
   "source": [
    "job = {'management':0, 'technician':1, 'entrepreneur':2, 'blue-collar':3, 'unknown':4,\n",
    " 'retired':5, 'admin':6,  'services':7,  'self-employed':8,  'unemployed':9, 'housemaid':10,\n",
    " 'student':11}\n",
    "marital = {'married':0, 'single':1, 'divorced':2}\n",
    "education = {'tertiary':0, 'secondary':1, 'unknown':2, 'primary':3}\n",
    "default = {'no':0, 'yes':1}\n",
    "housing = {'no':0, 'yes':1}\n",
    "loan = {'no':0, 'yes':1}\n",
    "contact = {'unknown':0, 'cellular':1, 'telephone':2}\n",
    "month = {'jan':1, 'feb':2, 'mar': 3, 'apr':4, 'may': 5, 'jun': 6, 'jul':7, 'aug': 8, 'oct': 10, 'nov':11,'dec':12}\n",
    "ymap = {'no':0, 'yes':1}"
   ]
  },
  {
   "cell_type": "code",
   "execution_count": 15,
   "id": "7f003e8c",
   "metadata": {},
   "outputs": [],
   "source": [
    "data['job'] = data['job'].map(job)\n",
    "data['marital'] = data['marital'].map(marital)\n",
    "data['education'] = data['education'].map(education)\n",
    "data['default'] = data['default'].map(default)\n",
    "data['housing'] = data['housing'].map(housing)\n",
    "data['loan'] = data['loan'].map(loan)\n",
    "data['contact'] = data['contact'].map(contact)\n",
    "data['month'] = data['month'].map(month)\n",
    "data['y'] = data['y'].map(ymap)"
   ]
  },
  {
   "cell_type": "code",
   "execution_count": 16,
   "id": "f64ddfdd",
   "metadata": {},
   "outputs": [
    {
     "name": "stdout",
     "output_type": "stream",
     "text": [
      "<class 'pandas.core.frame.DataFrame'>\n",
      "RangeIndex: 40000 entries, 0 to 39999\n",
      "Data columns (total 14 columns):\n",
      " #   Column     Non-Null Count  Dtype\n",
      "---  ------     --------------  -----\n",
      " 0   age        40000 non-null  int64\n",
      " 1   job        40000 non-null  int64\n",
      " 2   marital    40000 non-null  int64\n",
      " 3   education  40000 non-null  int64\n",
      " 4   default    40000 non-null  int64\n",
      " 5   balance    40000 non-null  int64\n",
      " 6   housing    40000 non-null  int64\n",
      " 7   loan       40000 non-null  int64\n",
      " 8   contact    40000 non-null  int64\n",
      " 9   day        40000 non-null  int64\n",
      " 10  month      40000 non-null  int64\n",
      " 11  duration   40000 non-null  int64\n",
      " 12  campaign   40000 non-null  int64\n",
      " 13  y          40000 non-null  int64\n",
      "dtypes: int64(14)\n",
      "memory usage: 4.3 MB\n"
     ]
    }
   ],
   "source": [
    "data.info()"
   ]
  },
  {
   "cell_type": "code",
   "execution_count": 17,
   "id": "100c278b",
   "metadata": {},
   "outputs": [
    {
     "name": "stdout",
     "output_type": "stream",
     "text": [
      "age:  [58 44 33 47 35 28 42 43 41 29 53 57 51 45 60 56 32 25 40 39 52 46 36 49\n",
      " 59 37 50 54 55 48 24 38 31 30 27 34 23 26 61 22 21 20 66 62 83 75 67 70\n",
      " 65 68 64 69 72 71 19 76 85 63 90 82 73 74 78 80 94 79 77 86 95 81]\n",
      "job:  [ 0  1  2  3  4  5  6  7  8  9 10 11]\n",
      "marital:  [0 1 2]\n",
      "education:  [0 1 2 3]\n",
      "default:  [0 1]\n",
      "balance:  [  2143     29      2 ...   7222   3402 102127]\n",
      "housing:  [1 0]\n",
      "loan:  [0 1]\n",
      "contact:  [0 1 2]\n",
      "day:  [ 5  6  7  8  9 12 13 14 15 16 19 20 21 23 26 27 28 29 30  2  3  4 11 17\n",
      " 18 24 25  1 10 22 31]\n",
      "month:  [ 5  6  7  8 10 11 12  1  2  3  4]\n",
      "duration:  [ 261  151   76 ... 1880 1460 2219]\n",
      "campagn:  [ 1  2  3  5  4  6  7  8  9 10 11 12 13 19 14 24 16 32 18 22 15 17 25 21\n",
      " 43 51 63 41 26 28 55 50 38 23 20 29 31 37 30 46 27 58 33 35 34 36 39 44]\n",
      "y:  [0 1]\n"
     ]
    }
   ],
   "source": [
    "#checking now\n",
    "print('age: ', data.age.unique())\n",
    "print('job: ', data.job.unique())\n",
    "print('marital: ', data.marital.unique())\n",
    "print('education: ', data.education.unique())\n",
    "print('default: ', data.default.unique())\n",
    "print('balance: ', data.balance.unique())\n",
    "print('housing: ', data.housing.unique())\n",
    "print('loan: ', data.loan.unique())\n",
    "print('contact: ', data.contact.unique())\n",
    "print('day: ', data.day.unique())\n",
    "print('month: ', data.month.unique())\n",
    "print('duration: ', data.duration.unique())\n",
    "print('campagn: ', data.campaign.unique())\n",
    "print('y: ', data.y.unique())"
   ]
  },
  {
   "cell_type": "markdown",
   "id": "3e5743e6",
   "metadata": {},
   "source": [
    "# Make X and Y"
   ]
  },
  {
   "cell_type": "code",
   "execution_count": 18,
   "id": "1bd70c26",
   "metadata": {},
   "outputs": [
    {
     "name": "stdout",
     "output_type": "stream",
     "text": [
      "       age  job  marital  education  default  balance  housing  loan  contact  \\\n",
      "0       58    0        0          0        0     2143        1     0        0   \n",
      "1       44    1        1          1        0       29        1     0        0   \n",
      "2       33    2        0          1        0        2        1     1        0   \n",
      "3       47    3        0          2        0     1506        1     0        0   \n",
      "4       33    4        1          2        0        1        0     0        0   \n",
      "...    ...  ...      ...        ...      ...      ...      ...   ...      ...   \n",
      "39995   53    1        0          0        0      395        0     0        1   \n",
      "39996   30    0        1          0        0     3340        0     0        1   \n",
      "39997   54    6        2          1        0      200        0     0        1   \n",
      "39998   34    0        0          0        0     1047        0     0        1   \n",
      "39999   38    1        0          1        0     1442        1     0        1   \n",
      "\n",
      "       day  month  duration  campaign  \n",
      "0        5      5       261         1  \n",
      "1        5      5       151         1  \n",
      "2        5      5        76         1  \n",
      "3        5      5        92         1  \n",
      "4        5      5       198         1  \n",
      "...    ...    ...       ...       ...  \n",
      "39995    3      6       107         1  \n",
      "39996    3      6       238         3  \n",
      "39997    3      6       170         1  \n",
      "39998    3      6       342         1  \n",
      "39999    3      6       113         1  \n",
      "\n",
      "[40000 rows x 13 columns]\n"
     ]
    }
   ],
   "source": [
    "X = data[feature_cols]\n",
    "y = data.y \n",
    "print(X)"
   ]
  },
  {
   "cell_type": "code",
   "execution_count": 19,
   "id": "4d4e3553",
   "metadata": {},
   "outputs": [],
   "source": [
    "X_train, X_test, y_train, y_test = train_test_split(X, y, test_size=0.2)"
   ]
  },
  {
   "cell_type": "markdown",
   "id": "01004cc2",
   "metadata": {},
   "source": [
    "# Feature importance"
   ]
  },
  {
   "cell_type": "code",
   "execution_count": 44,
   "id": "6e275bd5",
   "metadata": {},
   "outputs": [
    {
     "name": "stdout",
     "output_type": "stream",
     "text": [
      "3731\n",
      "-8019\n"
     ]
    }
   ],
   "source": [
    "print(len(data[data.balance <0]))\n",
    "print(min(data.balance))"
   ]
  },
  {
   "cell_type": "code",
   "execution_count": 45,
   "id": "68ea08fc",
   "metadata": {},
   "outputs": [
    {
     "name": "stdout",
     "output_type": "stream",
     "text": [
      "0\n",
      "0\n"
     ]
    }
   ],
   "source": [
    "#because there are some negative values, \n",
    "#we will temporarily add the min value, 8019, to all balances to calculate chi2\n",
    "for i in range(len(data.index)):\n",
    "    data.balance.iloc[i] += 8019\n",
    "    \n",
    "print(len(data[data.balance <0]))\n",
    "print(min(data.balance))"
   ]
  },
  {
   "cell_type": "code",
   "execution_count": 46,
   "id": "c8fb15cc",
   "metadata": {},
   "outputs": [
    {
     "name": "stdout",
     "output_type": "stream",
     "text": [
      "0\n",
      "0\n",
      "0\n",
      "0\n",
      "0\n",
      "0\n",
      "0\n",
      "0\n",
      "0\n",
      "0\n",
      "0\n",
      "0\n",
      "0\n"
     ]
    }
   ],
   "source": [
    "for feat in feature_cols:\n",
    "    print(len(data[data[feat] <0]))"
   ]
  },
  {
   "cell_type": "code",
   "execution_count": 49,
   "id": "0ede4eaa",
   "metadata": {},
   "outputs": [],
   "source": [
    "X_mod = data[feature_cols]\n",
    "y_mod = data.y "
   ]
  },
  {
   "cell_type": "code",
   "execution_count": 50,
   "id": "1bbad9d4",
   "metadata": {},
   "outputs": [
    {
     "name": "stdout",
     "output_type": "stream",
     "text": [
      "      Feature    Importance\n",
      "11   duration  2.245727e+06\n",
      "5     balance  3.316896e+04\n",
      "12   campaign  2.370594e+02\n",
      "8     contact  9.106058e+01\n",
      "2     marital  8.287598e+01\n",
      "10      month  6.756137e+01\n",
      "3   education  6.555857e+01\n",
      "6     housing  4.714734e+01\n",
      "0         age  3.769258e+01\n",
      "7        loan  3.184029e+01\n",
      "9         day  7.052987e+00\n",
      "4     default  1.686247e+00\n",
      "1         job  4.923854e-01\n"
     ]
    }
   ],
   "source": [
    "#filter features by importance\n",
    "\n",
    "# Perform feature selection using the chi2 method\n",
    "selector = SelectKBest(score_func=chi2, k='all')\n",
    "selector.fit(X_mod, y_mod)\n",
    "\n",
    "# Get the feature importances based on the chi2 scores\n",
    "scores = selector.scores_\n",
    "\n",
    "# Create a dataframe with the feature names and their importances\n",
    "features = X_mod.columns\n",
    "importances = pd.DataFrame({'Feature': features, 'Importance': scores})\n",
    "\n",
    "# Sort the dataframe by importance\n",
    "importances = importances.sort_values(by='Importance', ascending=False)\n",
    "\n",
    "# Print the feature importances\n",
    "print(importances)"
   ]
  },
  {
   "cell_type": "code",
   "execution_count": 51,
   "id": "bf1475d3",
   "metadata": {},
   "outputs": [
    {
     "name": "stdout",
     "output_type": "stream",
     "text": [
      "3731\n",
      "-8019\n"
     ]
    }
   ],
   "source": [
    "#reverse addition\n",
    "for i in range(len(data.index)):\n",
    "    data.balance.iloc[i] -= 8019\n",
    "    \n",
    "print(len(data[data.balance <0]))\n",
    "print(min(data.balance))"
   ]
  },
  {
   "cell_type": "markdown",
   "id": "9c2e991c",
   "metadata": {},
   "source": [
    "# Working on class imbalance"
   ]
  },
  {
   "cell_type": "markdown",
   "id": "87f64a07",
   "metadata": {},
   "source": [
    "Above we saw that only 7% of the data set is Y = 'yes' (y=1)"
   ]
  },
  {
   "cell_type": "code",
   "execution_count": 20,
   "id": "8698586d",
   "metadata": {},
   "outputs": [
    {
     "name": "stdout",
     "output_type": "stream",
     "text": [
      "Minority class length is 7077 and majority class length is 14820\n",
      "Minority class is 18%\n",
      "Minority class length is 9288 and majority class length is 14839\n",
      "Minority class is 23%\n"
     ]
    }
   ],
   "source": [
    "# y=1 represents the positive/minority class\n",
    "\n",
    "\n",
    "def resample_data(X, y, up, down):\n",
    "    \"\"\"Upsample the minority class by factor up, and downsample majority class by factor down, \n",
    "        to address class imbalance\"\"\"\n",
    "    # Split the data into training and testing sets\n",
    "    X_train, X_test, y_train, y_test = train_test_split(X, y, test_size=0.2)\n",
    "    \n",
    "\n",
    "    # Downsample the majority class\n",
    "    X_train_majority = X_train[y_train==0]\n",
    "    y_train_majority = y_train[y_train==0]\n",
    "    X_train_majority_downsampled, y_train_majority_downsampled = resample(X_train_majority, y_train_majority,\n",
    "                                                                          replace=False,\n",
    "                                                                          n_samples=int(X_train_majority.shape[0]/down),\n",
    "                                                                          random_state=42)\n",
    "\n",
    "    # Upsample the minority class\n",
    "    X_train_minority = X_train[y_train==1]\n",
    "    y_train_minority = y_train[y_train==1]\n",
    "    X_train_minority_upsampled, y_train_minority_upsampled = resample(X_train_minority, y_train_minority,\n",
    "                                                                      replace=True,\n",
    "                                                                      n_samples=X_train_minority.shape[0]*up,\n",
    "                                                                      random_state=42)\n",
    "    print(f\"Minority class length is {len(X_train_minority_upsampled)} and majority class length is {len(X_train_majority_downsampled)}\")\n",
    "    print(f\"Minority class is {round((len(X_train_minority_upsampled)/len(X))*100)}%\")\n",
    "    # Combine the upsampled minority class and downsampled majority class\n",
    "    X_train_resampled = np.concatenate([X_train_minority_upsampled, X_train_majority_downsampled])\n",
    "    y_train_resampled = np.concatenate([y_train_minority_upsampled, y_train_majority_downsampled])\n",
    "    \n",
    "    return X_train_resampled, X_test, y_train_resampled, y_test\n",
    "  \n",
    "\n",
    "# upsample the minority class by factor 3 (up = 3) and downsample majority class by half (down = 2)\n",
    "X_train_resampled1, X_test1, y_train_resampled1, y_test1 = resample_data(X, y, 3, 2)\n",
    "\n",
    "# upsample the minority class by factor 4 (up = 4) and downsample majority class by half (down = 2)\n",
    "X_train_resampled2, X_test2, y_train_resampled2, y_test2 = resample_data(X, y, 4, 2)\n",
    "\n"
   ]
  },
  {
   "cell_type": "markdown",
   "id": "d8657c42",
   "metadata": {},
   "source": [
    "# Building ML models"
   ]
  },
  {
   "cell_type": "code",
   "execution_count": 21,
   "id": "b9a7f950",
   "metadata": {},
   "outputs": [],
   "source": [
    "#test different models on data\n",
    "def compare_models(X_train, X_test, y_train, y_test):\n",
    "    d = {}\n",
    "    print('Difference in model accuracy')\n",
    "    # Create a Logistic Regression classifier\n",
    "    clf = LogisticRegression(random_state=16)\n",
    "    clf.fit(X_train, y_train)\n",
    "    y_pred = clf.predict(X_test)\n",
    "    accuracy = accuracy_score(y_test, y_pred)\n",
    "    k = \"Logistic Regression\"\n",
    "    d[k] =  accuracy\n",
    "    print(k, accuracy)\n",
    "    f1 = f1_score(y_test, y_pred, pos_label=1)\n",
    "    print(f\"{k} F1 Score: {f1:.2f}\\n\")\n",
    "    \n",
    "    # Create a KNN classifier\n",
    "    clf = KNeighborsClassifier()\n",
    "    clf.fit(X_train, y_train)\n",
    "    y_pred = clf.predict(X_test)\n",
    "    accuracy = accuracy_score(y_test, y_pred)\n",
    "    k = \"KNN\"\n",
    "    d[k] =  accuracy\n",
    "    print(k, accuracy)\n",
    "    f1 = f1_score(y_test, y_pred, pos_label=1)\n",
    "    print(f\"{k} F1 Score: {f1:.2f}\\n\")\n",
    "    \n",
    "    # Create a Decision Tree classifier\n",
    "    clf = DecisionTreeClassifier()\n",
    "    clf.fit(X_train, y_train)\n",
    "    y_pred = clf.predict(X_test)\n",
    "    accuracy = accuracy_score(y_test, y_pred)\n",
    "    k = \"Decision tree\"\n",
    "    d[k] =  accuracy\n",
    "    print(k, accuracy)\n",
    "    f1 = f1_score(y_test, y_pred, pos_label=1)\n",
    "    print(f\"{k} F1 Score: {f1:.2f}\\n\")\n",
    "    \n",
    "    # Create a Random Forest classifier\n",
    "    clf = RandomForestClassifier()\n",
    "    clf.fit(X_train, y_train)\n",
    "    y_pred = clf.predict(X_test)\n",
    "    accuracy = accuracy_score(y_test, y_pred)\n",
    "    k = \"Random forest\"\n",
    "    d[k] =  accuracy\n",
    "    print(k, accuracy)\n",
    "    f1 = f1_score(y_test, y_pred, pos_label=1)\n",
    "    print(f\"{k} F1 Score: {f1:.2f}\\n\")\n",
    "    \n",
    "    #Create a Gradient Boosting classifier\n",
    "    clf = GradientBoostingClassifier()\n",
    "    clf.fit(X_train, y_train)\n",
    "    y_pred = clf.predict(X_test)\n",
    "    accuracy = accuracy_score(y_test, y_pred)\n",
    "    k = \"Gradient Boosting\"\n",
    "    d[k] =  accuracy\n",
    "    print(k, accuracy)\n",
    "    f1 = f1_score(y_test, y_pred, pos_label=1)\n",
    "    print(f\"{k} F1 Score: {f1:.2f}\\n\")\n",
    "    \n",
    "    #Create an XGBoost classifier\n",
    "\n",
    "    params = {'objective': 'binary:logistic', 'max_depth': 3, 'learning_rate': 0.1}\n",
    "    clf = xgb.XGBClassifier(**params)\n",
    "    clf.fit(X_train, y_train)\n",
    "    y_pred = clf.predict(X_test)\n",
    "    accuracy = accuracy_score(y_test, y_pred)\n",
    "    k = \"XGBoost\"\n",
    "    d[k] =  accuracy\n",
    "    print(k, accuracy)\n",
    "    f1 = f1_score(y_test, y_pred, pos_label=1)\n",
    "    print(f\"{k} F1 Score: {f1:.2f}\\n\")\n",
    "    \n",
    "    max_k = max(d, key=lambda key: d[key])\n",
    "    print(\"Max accuracy is\", max_k, \"with\", d[max_k])\n"
   ]
  },
  {
   "cell_type": "code",
   "execution_count": 22,
   "id": "83323305",
   "metadata": {
    "scrolled": true
   },
   "outputs": [
    {
     "name": "stdout",
     "output_type": "stream",
     "text": [
      "Difference in model accuracy\n",
      "Logistic Regression 0.931\n",
      "Logistic Regression F1 Score: 0.33\n",
      "\n"
     ]
    },
    {
     "name": "stderr",
     "output_type": "stream",
     "text": [
      "/opt/anaconda3/lib/python3.8/site-packages/sklearn/linear_model/_logistic.py:458: ConvergenceWarning: lbfgs failed to converge (status=1):\n",
      "STOP: TOTAL NO. of ITERATIONS REACHED LIMIT.\n",
      "\n",
      "Increase the number of iterations (max_iter) or scale the data as shown in:\n",
      "    https://scikit-learn.org/stable/modules/preprocessing.html\n",
      "Please also refer to the documentation for alternative solver options:\n",
      "    https://scikit-learn.org/stable/modules/linear_model.html#logistic-regression\n",
      "  n_iter_i = _check_optimize_result(\n"
     ]
    },
    {
     "name": "stdout",
     "output_type": "stream",
     "text": [
      "KNN 0.926\n",
      "KNN F1 Score: 0.34\n",
      "\n",
      "Decision tree 0.916375\n",
      "Decision tree F1 Score: 0.46\n",
      "\n",
      "Random forest 0.9335\n",
      "Random forest F1 Score: 0.42\n",
      "\n",
      "Gradient Boosting 0.934625\n",
      "Gradient Boosting F1 Score: 0.43\n",
      "\n",
      "XGBoost 0.934375\n",
      "XGBoost F1 Score: 0.42\n",
      "\n",
      "Max accuracy is Gradient Boosting with 0.934625\n"
     ]
    }
   ],
   "source": [
    "#comparing models\n",
    "compare_models(X_train, X_test, y_train, y_test)"
   ]
  },
  {
   "cell_type": "markdown",
   "id": "bb05737f",
   "metadata": {},
   "source": [
    "# Trying to improve Logistic regression"
   ]
  },
  {
   "cell_type": "code",
   "execution_count": 23,
   "id": "03a893bd",
   "metadata": {},
   "outputs": [],
   "source": [
    "def log_reg_plot(X_train, X_test, y_train, y_test, plot=True):\n",
    "    print('Logistic regression')\n",
    "    # Create a Logistic Regression classifier\n",
    "    clf = LogisticRegression(random_state=16)\n",
    "    clf.fit(X_train, y_train)\n",
    "    \n",
    "    # Predict probabilities for the test set\n",
    "    probabilities = clf.predict_proba(X_test)\n",
    "\n",
    "    # Print the first 10 probabilities\n",
    "    print('test', list(y_test)[:10])\n",
    "    print('probs', probabilities[:10])\n",
    "\n",
    "    print('using predict function')\n",
    "    y_pred = clf.predict(X_test)\n",
    "    print('prediction', y_pred[:10])\n",
    "    accuracy = accuracy_score(y_test, y_pred)\n",
    "#     d[k] =  accuracy\n",
    "    print('accuracy', accuracy)\n",
    "    f1 = f1_score(y_test, y_pred, pos_label=1)\n",
    "    print(f\"F1 Score: {f1:.2f}\\n\")\n",
    "    \n",
    "    cnf_matrix = metrics.confusion_matrix(y_test, y_pred)\n",
    "    if plot:\n",
    "        class_names=[0,1] # name  of classes\n",
    "        fig, ax = plt.subplots()\n",
    "        tick_marks = np.arange(len(class_names))\n",
    "        plt.xticks(tick_marks, class_names)\n",
    "        plt.yticks(tick_marks, class_names)\n",
    "        # create heatmap\n",
    "        sns.heatmap(pd.DataFrame(cnf_matrix), annot=True, cmap=\"YlGnBu\" ,fmt='g')\n",
    "        ax.xaxis.set_label_position(\"top\")\n",
    "        plt.tight_layout()\n",
    "        plt.title('Confusion matrix', y=1.1)\n",
    "        plt.ylabel('Actual label')\n",
    "        plt.xlabel('Predicted label')\n",
    "        plt.show()\n",
    "\n"
   ]
  },
  {
   "cell_type": "code",
   "execution_count": 24,
   "id": "befa0751",
   "metadata": {},
   "outputs": [
    {
     "name": "stdout",
     "output_type": "stream",
     "text": [
      "Logistic regression\n",
      "test [0, 0, 1, 0, 0, 0, 0, 0, 1, 1]\n",
      "probs [[0.97790782 0.02209218]\n",
      " [0.94146319 0.05853681]\n",
      " [0.31188334 0.68811666]\n",
      " [0.94512626 0.05487374]\n",
      " [0.99685949 0.00314051]\n",
      " [0.97979253 0.02020747]\n",
      " [0.99033883 0.00966117]\n",
      " [0.95019302 0.04980698]\n",
      " [0.90265336 0.09734664]\n",
      " [0.85774637 0.14225363]]\n",
      "using predict function\n",
      "prediction [0 0 1 0 0 0 0 0 0 0]\n",
      "accuracy 0.931\n",
      "F1 Score: 0.33\n",
      "\n"
     ]
    },
    {
     "name": "stderr",
     "output_type": "stream",
     "text": [
      "/opt/anaconda3/lib/python3.8/site-packages/sklearn/linear_model/_logistic.py:458: ConvergenceWarning: lbfgs failed to converge (status=1):\n",
      "STOP: TOTAL NO. of ITERATIONS REACHED LIMIT.\n",
      "\n",
      "Increase the number of iterations (max_iter) or scale the data as shown in:\n",
      "    https://scikit-learn.org/stable/modules/preprocessing.html\n",
      "Please also refer to the documentation for alternative solver options:\n",
      "    https://scikit-learn.org/stable/modules/linear_model.html#logistic-regression\n",
      "  n_iter_i = _check_optimize_result(\n"
     ]
    },
    {
     "data": {
      "image/png": "[encoded data removed]",
      "text/plain": [
       "<Figure size 432x288 with 2 Axes>"
      ]
     },
     "metadata": {
      "needs_background": "light"
     },
     "output_type": "display_data"
    },
    {
     "name": "stdout",
     "output_type": "stream",
     "text": [
      "Logistic regression\n",
      "test [0, 0, 0, 0, 0, 0, 0, 0, 0, 0]\n",
      "probs [[0.80465035 0.19534965]\n",
      " [0.88537203 0.11462797]\n",
      " [0.62606359 0.37393641]\n",
      " [0.35550325 0.64449675]\n",
      " [0.8726976  0.1273024 ]\n",
      " [0.83440969 0.16559031]\n",
      " [0.59570455 0.40429545]\n",
      " [0.9175039  0.0824961 ]\n",
      " [0.93378563 0.06621437]\n",
      " [0.82609524 0.17390476]]\n",
      "using predict function\n",
      "prediction [0 0 0 1 0 0 0 0 0 0]\n",
      "accuracy 0.89775\n",
      "F1 Score: 0.45\n",
      "\n"
     ]
    },
    {
     "name": "stderr",
     "output_type": "stream",
     "text": [
      "/opt/anaconda3/lib/python3.8/site-packages/sklearn/linear_model/_logistic.py:458: ConvergenceWarning: lbfgs failed to converge (status=1):\n",
      "STOP: TOTAL NO. of ITERATIONS REACHED LIMIT.\n",
      "\n",
      "Increase the number of iterations (max_iter) or scale the data as shown in:\n",
      "    https://scikit-learn.org/stable/modules/preprocessing.html\n",
      "Please also refer to the documentation for alternative solver options:\n",
      "    https://scikit-learn.org/stable/modules/linear_model.html#logistic-regression\n",
      "  n_iter_i = _check_optimize_result(\n",
      "/opt/anaconda3/lib/python3.8/site-packages/sklearn/base.py:402: UserWarning: X has feature names, but LogisticRegression was fitted without feature names\n",
      "  warnings.warn(\n",
      "/opt/anaconda3/lib/python3.8/site-packages/sklearn/base.py:402: UserWarning: X has feature names, but LogisticRegression was fitted without feature names\n",
      "  warnings.warn(\n"
     ]
    },
    {
     "data": {
      "image/png": "[encoded data removed]",
      "text/plain": [
       "<Figure size 432x288 with 2 Axes>"
      ]
     },
     "metadata": {
      "needs_background": "light"
     },
     "output_type": "display_data"
    },
    {
     "name": "stdout",
     "output_type": "stream",
     "text": [
      "Logistic regression\n",
      "test [0, 0, 0, 0, 0, 0, 0, 0, 0, 0]\n",
      "probs [[8.47124839e-01 1.52875161e-01]\n",
      " [7.31446423e-01 2.68553577e-01]\n",
      " [8.83806158e-01 1.16193842e-01]\n",
      " [8.50429746e-01 1.49570254e-01]\n",
      " [8.33777443e-01 1.66222557e-01]\n",
      " [3.73287614e-07 9.99999627e-01]\n",
      " [9.49335239e-01 5.06647606e-02]\n",
      " [3.31484855e-01 6.68515145e-01]\n",
      " [8.55118612e-02 9.14488139e-01]\n",
      " [4.99583006e-01 5.00416994e-01]]\n",
      "using predict function\n",
      "prediction [0 0 0 0 0 1 0 1 1 1]\n",
      "accuracy 0.875125\n",
      "F1 Score: 0.45\n",
      "\n"
     ]
    },
    {
     "name": "stderr",
     "output_type": "stream",
     "text": [
      "/opt/anaconda3/lib/python3.8/site-packages/sklearn/linear_model/_logistic.py:458: ConvergenceWarning: lbfgs failed to converge (status=1):\n",
      "STOP: TOTAL NO. of ITERATIONS REACHED LIMIT.\n",
      "\n",
      "Increase the number of iterations (max_iter) or scale the data as shown in:\n",
      "    https://scikit-learn.org/stable/modules/preprocessing.html\n",
      "Please also refer to the documentation for alternative solver options:\n",
      "    https://scikit-learn.org/stable/modules/linear_model.html#logistic-regression\n",
      "  n_iter_i = _check_optimize_result(\n",
      "/opt/anaconda3/lib/python3.8/site-packages/sklearn/base.py:402: UserWarning: X has feature names, but LogisticRegression was fitted without feature names\n",
      "  warnings.warn(\n",
      "/opt/anaconda3/lib/python3.8/site-packages/sklearn/base.py:402: UserWarning: X has feature names, but LogisticRegression was fitted without feature names\n",
      "  warnings.warn(\n"
     ]
    },
    {
     "data": {
      "image/png": "[encoded data removed]",
      "text/plain": [
       "<Figure size 432x288 with 2 Axes>"
      ]
     },
     "metadata": {
      "needs_background": "light"
     },
     "output_type": "display_data"
    }
   ],
   "source": [
    "#comparing upsampling/downsampling on logistic regression\n",
    "log_reg_plot(X_train, X_test, y_train, y_test, plot=True)\n",
    "log_reg_plot(X_train_resampled1, X_test1, y_train_resampled1, y_test1, plot=True)\n",
    "log_reg_plot(X_train_resampled2, X_test2, y_train_resampled2, y_test2, plot=True)"
   ]
  },
  {
   "cell_type": "markdown",
   "id": "d03e1b30",
   "metadata": {},
   "source": [
    "resampled1 with 3x upsampling and downsampling by half worked best for F1 (0.45) and second best accuracy (89.7%)"
   ]
  },
  {
   "cell_type": "code",
   "execution_count": 25,
   "id": "c77eacc6",
   "metadata": {},
   "outputs": [],
   "source": [
    "#test different models on data\n",
    "def changing_threshold_LR(X_train, X_test, y_train, y_test, threshold):\n",
    "    print('Logistic regression')\n",
    "    # Create a Logistic Regression classifier\n",
    "    clf = LogisticRegression(random_state=16)\n",
    "    clf.fit(X_train, y_train)\n",
    "    \n",
    "    # Predict probabilities for the test set\n",
    "    probabilities = clf.predict_proba(X_test)\n",
    "\n",
    "    # Print the first 10 probabilities\n",
    "    print('test', list(y_test)[:10])\n",
    "    print('probs', probabilities[:10])\n",
    "\n",
    "\n",
    "    print(f'using {threshold} threshold')\n",
    "    y_pred = (probabilities[:, 1] >= threshold).astype(int)\n",
    "    print('new pred', y_pred[:10])\n",
    "    accuracy = accuracy_score(y_test, y_pred)\n",
    "    k = \"Logistic regression\"\n",
    "#     d[k] =  accuracy\n",
    "    print(k, accuracy)\n",
    "    f1 = f1_score(y_test, y_pred, pos_label=1)\n",
    "    print(f\"{k} F1 Score: {f1:.2f}\\n\")\n",
    "    \n",
    "    cnf_matrix = metrics.confusion_matrix(y_test, y_pred)\n",
    "    plot = True\n",
    "    if plot:\n",
    "        class_names=[0,1] # name  of classes\n",
    "        fig, ax = plt.subplots()\n",
    "        tick_marks = np.arange(len(class_names))\n",
    "        plt.xticks(tick_marks, class_names)\n",
    "        plt.yticks(tick_marks, class_names)\n",
    "        # create heatmap\n",
    "        sns.heatmap(pd.DataFrame(cnf_matrix), annot=True, cmap=\"YlGnBu\" ,fmt='g')\n",
    "        ax.xaxis.set_label_position(\"top\")\n",
    "        plt.tight_layout()\n",
    "        plt.title('Confusion matrix', y=1.1)\n",
    "        plt.ylabel('Actual label')\n",
    "        plt.xlabel('Predicted label')\n",
    "        plt.show()\n"
   ]
  },
  {
   "cell_type": "code",
   "execution_count": 26,
   "id": "0e014c04",
   "metadata": {},
   "outputs": [
    {
     "name": "stdout",
     "output_type": "stream",
     "text": [
      "Logistic regression\n",
      "test [0, 0, 1, 0, 0, 0, 0, 0, 1, 1]\n",
      "probs [[0.97790782 0.02209218]\n",
      " [0.94146319 0.05853681]\n",
      " [0.31188334 0.68811666]\n",
      " [0.94512626 0.05487374]\n",
      " [0.99685949 0.00314051]\n",
      " [0.97979253 0.02020747]\n",
      " [0.99033883 0.00966117]\n",
      " [0.95019302 0.04980698]\n",
      " [0.90265336 0.09734664]\n",
      " [0.85774637 0.14225363]]\n",
      "using 0.1 threshold\n",
      "new pred [0 0 1 0 0 0 0 0 0 1]\n",
      "Logistic regression 0.844375\n",
      "Logistic regression F1 Score: 0.40\n",
      "\n"
     ]
    },
    {
     "name": "stderr",
     "output_type": "stream",
     "text": [
      "/opt/anaconda3/lib/python3.8/site-packages/sklearn/linear_model/_logistic.py:458: ConvergenceWarning: lbfgs failed to converge (status=1):\n",
      "STOP: TOTAL NO. of ITERATIONS REACHED LIMIT.\n",
      "\n",
      "Increase the number of iterations (max_iter) or scale the data as shown in:\n",
      "    https://scikit-learn.org/stable/modules/preprocessing.html\n",
      "Please also refer to the documentation for alternative solver options:\n",
      "    https://scikit-learn.org/stable/modules/linear_model.html#logistic-regression\n",
      "  n_iter_i = _check_optimize_result(\n"
     ]
    },
    {
     "data": {
      "image/png": "[encoded data removed]",
      "text/plain": [
       "<Figure size 432x288 with 2 Axes>"
      ]
     },
     "metadata": {
      "needs_background": "light"
     },
     "output_type": "display_data"
    },
    {
     "name": "stdout",
     "output_type": "stream",
     "text": [
      "Logistic regression\n",
      "test [0, 0, 1, 0, 0, 0, 0, 0, 1, 1]\n",
      "probs [[0.97790782 0.02209218]\n",
      " [0.94146319 0.05853681]\n",
      " [0.31188334 0.68811666]\n",
      " [0.94512626 0.05487374]\n",
      " [0.99685949 0.00314051]\n",
      " [0.97979253 0.02020747]\n",
      " [0.99033883 0.00966117]\n",
      " [0.95019302 0.04980698]\n",
      " [0.90265336 0.09734664]\n",
      " [0.85774637 0.14225363]]\n",
      "using 0.2 threshold\n",
      "new pred [0 0 1 0 0 0 0 0 0 0]\n",
      "Logistic regression 0.911125\n",
      "Logistic regression F1 Score: 0.45\n",
      "\n"
     ]
    },
    {
     "name": "stderr",
     "output_type": "stream",
     "text": [
      "/opt/anaconda3/lib/python3.8/site-packages/sklearn/linear_model/_logistic.py:458: ConvergenceWarning: lbfgs failed to converge (status=1):\n",
      "STOP: TOTAL NO. of ITERATIONS REACHED LIMIT.\n",
      "\n",
      "Increase the number of iterations (max_iter) or scale the data as shown in:\n",
      "    https://scikit-learn.org/stable/modules/preprocessing.html\n",
      "Please also refer to the documentation for alternative solver options:\n",
      "    https://scikit-learn.org/stable/modules/linear_model.html#logistic-regression\n",
      "  n_iter_i = _check_optimize_result(\n"
     ]
    },
    {
     "data": {
      "image/png": "[encoded data removed]",
      "text/plain": [
       "<Figure size 432x288 with 2 Axes>"
      ]
     },
     "metadata": {
      "needs_background": "light"
     },
     "output_type": "display_data"
    },
    {
     "name": "stdout",
     "output_type": "stream",
     "text": [
      "Logistic regression\n",
      "test [0, 0, 1, 0, 0, 0, 0, 0, 1, 1]\n",
      "probs [[0.97790782 0.02209218]\n",
      " [0.94146319 0.05853681]\n",
      " [0.31188334 0.68811666]\n",
      " [0.94512626 0.05487374]\n",
      " [0.99685949 0.00314051]\n",
      " [0.97979253 0.02020747]\n",
      " [0.99033883 0.00966117]\n",
      " [0.95019302 0.04980698]\n",
      " [0.90265336 0.09734664]\n",
      " [0.85774637 0.14225363]]\n",
      "using 0.3 threshold\n",
      "new pred [0 0 1 0 0 0 0 0 0 0]\n",
      "Logistic regression 0.923875\n",
      "Logistic regression F1 Score: 0.41\n",
      "\n"
     ]
    },
    {
     "name": "stderr",
     "output_type": "stream",
     "text": [
      "/opt/anaconda3/lib/python3.8/site-packages/sklearn/linear_model/_logistic.py:458: ConvergenceWarning: lbfgs failed to converge (status=1):\n",
      "STOP: TOTAL NO. of ITERATIONS REACHED LIMIT.\n",
      "\n",
      "Increase the number of iterations (max_iter) or scale the data as shown in:\n",
      "    https://scikit-learn.org/stable/modules/preprocessing.html\n",
      "Please also refer to the documentation for alternative solver options:\n",
      "    https://scikit-learn.org/stable/modules/linear_model.html#logistic-regression\n",
      "  n_iter_i = _check_optimize_result(\n"
     ]
    },
    {
     "data": {
      "image/png": "[encoded data removed]",
      "text/plain": [
       "<Figure size 432x288 with 2 Axes>"
      ]
     },
     "metadata": {
      "needs_background": "light"
     },
     "output_type": "display_data"
    },
    {
     "name": "stdout",
     "output_type": "stream",
     "text": [
      "Logistic regression\n",
      "test [0, 0, 1, 0, 0, 0, 0, 0, 1, 1]\n",
      "probs [[0.97790782 0.02209218]\n",
      " [0.94146319 0.05853681]\n",
      " [0.31188334 0.68811666]\n",
      " [0.94512626 0.05487374]\n",
      " [0.99685949 0.00314051]\n",
      " [0.97979253 0.02020747]\n",
      " [0.99033883 0.00966117]\n",
      " [0.95019302 0.04980698]\n",
      " [0.90265336 0.09734664]\n",
      " [0.85774637 0.14225363]]\n",
      "using 0.4 threshold\n",
      "new pred [0 0 1 0 0 0 0 0 0 0]\n",
      "Logistic regression 0.928375\n",
      "Logistic regression F1 Score: 0.38\n",
      "\n"
     ]
    },
    {
     "name": "stderr",
     "output_type": "stream",
     "text": [
      "/opt/anaconda3/lib/python3.8/site-packages/sklearn/linear_model/_logistic.py:458: ConvergenceWarning: lbfgs failed to converge (status=1):\n",
      "STOP: TOTAL NO. of ITERATIONS REACHED LIMIT.\n",
      "\n",
      "Increase the number of iterations (max_iter) or scale the data as shown in:\n",
      "    https://scikit-learn.org/stable/modules/preprocessing.html\n",
      "Please also refer to the documentation for alternative solver options:\n",
      "    https://scikit-learn.org/stable/modules/linear_model.html#logistic-regression\n",
      "  n_iter_i = _check_optimize_result(\n"
     ]
    },
    {
     "data": {
      "image/png": "[encoded data removed]",
      "text/plain": [
       "<Figure size 432x288 with 2 Axes>"
      ]
     },
     "metadata": {
      "needs_background": "light"
     },
     "output_type": "display_data"
    },
    {
     "name": "stdout",
     "output_type": "stream",
     "text": [
      "Logistic regression\n",
      "test [0, 0, 1, 0, 0, 0, 0, 0, 1, 1]\n",
      "probs [[0.97790782 0.02209218]\n",
      " [0.94146319 0.05853681]\n",
      " [0.31188334 0.68811666]\n",
      " [0.94512626 0.05487374]\n",
      " [0.99685949 0.00314051]\n",
      " [0.97979253 0.02020747]\n",
      " [0.99033883 0.00966117]\n",
      " [0.95019302 0.04980698]\n",
      " [0.90265336 0.09734664]\n",
      " [0.85774637 0.14225363]]\n",
      "using 0.5 threshold\n",
      "new pred [0 0 1 0 0 0 0 0 0 0]\n",
      "Logistic regression 0.931\n",
      "Logistic regression F1 Score: 0.33\n",
      "\n"
     ]
    },
    {
     "name": "stderr",
     "output_type": "stream",
     "text": [
      "/opt/anaconda3/lib/python3.8/site-packages/sklearn/linear_model/_logistic.py:458: ConvergenceWarning: lbfgs failed to converge (status=1):\n",
      "STOP: TOTAL NO. of ITERATIONS REACHED LIMIT.\n",
      "\n",
      "Increase the number of iterations (max_iter) or scale the data as shown in:\n",
      "    https://scikit-learn.org/stable/modules/preprocessing.html\n",
      "Please also refer to the documentation for alternative solver options:\n",
      "    https://scikit-learn.org/stable/modules/linear_model.html#logistic-regression\n",
      "  n_iter_i = _check_optimize_result(\n"
     ]
    },
    {
     "data": {
      "image/png": "[encoded data removed]",
      "text/plain": [
       "<Figure size 432x288 with 2 Axes>"
      ]
     },
     "metadata": {
      "needs_background": "light"
     },
     "output_type": "display_data"
    }
   ],
   "source": [
    "#changing threshold in probability score in log reg\n",
    "changing_threshold_LR(X_train, X_test, y_train, y_test, 0.1)\n",
    "changing_threshold_LR(X_train, X_test, y_train, y_test, 0.2)\n",
    "changing_threshold_LR(X_train, X_test, y_train, y_test, 0.3)\n",
    "changing_threshold_LR(X_train, X_test, y_train, y_test, 0.4)\n",
    "changing_threshold_LR(X_train, X_test, y_train, y_test, 0.5)"
   ]
  },
  {
   "cell_type": "markdown",
   "id": "f95a49b8",
   "metadata": {},
   "source": [
    "Using threshold 0.2 gave best F1 (0.45) and second best accuracy results (91.1%)"
   ]
  },
  {
   "cell_type": "code",
   "execution_count": 27,
   "id": "aea85590",
   "metadata": {},
   "outputs": [],
   "source": [
    "#test different models on data\n",
    "def changing_weights_LR(X_train, X_test, y_train, y_test, weights):\n",
    "    print('Logistic regression')\n",
    "    # Create a Logistic Regression classifier\n",
    "    clf = LogisticRegression(class_weight=weights, random_state=16)\n",
    "    clf.fit(X_train, y_train)\n",
    "    \n",
    "#     # Predict probabilities for the test set\n",
    "#     probabilities = clf.predict_proba(X_test)\n",
    "\n",
    "#     # Print the first 10 probabilities\n",
    "#     print('test', list(y_test)[:10])\n",
    "#     print('probs', probabilities[:10])\n",
    "\n",
    "    \n",
    "    print(f'using {weights} weight ratio')\n",
    "    y_pred = clf.predict(X_test)\n",
    "    accuracy = accuracy_score(y_test, y_pred)\n",
    "    k = \"Logistic regression\"\n",
    "#     d[k] =  accuracy\n",
    "    print(k, accuracy)\n",
    "    f1 = f1_score(y_test, y_pred, pos_label=1)\n",
    "    print(f\"{k} F1 Score: {f1:.2f}\\n\")\n",
    "    \n",
    "    cnf_matrix = metrics.confusion_matrix(y_test, y_pred)\n",
    "    plot = True\n",
    "    if plot:\n",
    "        class_names=[0,1] # name  of classes\n",
    "        fig, ax = plt.subplots()\n",
    "        tick_marks = np.arange(len(class_names))\n",
    "        plt.xticks(tick_marks, class_names)\n",
    "        plt.yticks(tick_marks, class_names)\n",
    "        # create heatmap\n",
    "        sns.heatmap(pd.DataFrame(cnf_matrix), annot=True, cmap=\"YlGnBu\" ,fmt='g')\n",
    "        ax.xaxis.set_label_position(\"top\")\n",
    "        plt.tight_layout()\n",
    "        plt.title('Confusion matrix', y=1.1)\n",
    "        plt.ylabel('Actual label')\n",
    "        plt.xlabel('Predicted label')\n",
    "        plt.show()\n"
   ]
  },
  {
   "cell_type": "code",
   "execution_count": 28,
   "id": "a7397669",
   "metadata": {},
   "outputs": [
    {
     "name": "stdout",
     "output_type": "stream",
     "text": [
      "Logistic regression\n",
      "using {0: 0.1, 1: 0.9} weight ratio\n",
      "Logistic regression 0.85775\n",
      "Logistic regression F1 Score: 0.42\n",
      "\n"
     ]
    },
    {
     "name": "stderr",
     "output_type": "stream",
     "text": [
      "/opt/anaconda3/lib/python3.8/site-packages/sklearn/linear_model/_logistic.py:458: ConvergenceWarning: lbfgs failed to converge (status=1):\n",
      "STOP: TOTAL NO. of ITERATIONS REACHED LIMIT.\n",
      "\n",
      "Increase the number of iterations (max_iter) or scale the data as shown in:\n",
      "    https://scikit-learn.org/stable/modules/preprocessing.html\n",
      "Please also refer to the documentation for alternative solver options:\n",
      "    https://scikit-learn.org/stable/modules/linear_model.html#logistic-regression\n",
      "  n_iter_i = _check_optimize_result(\n"
     ]
    },
    {
     "data": {
      "image/png": "[encoded data removed]",
      "text/plain": [
       "<Figure size 432x288 with 2 Axes>"
      ]
     },
     "metadata": {
      "needs_background": "light"
     },
     "output_type": "display_data"
    },
    {
     "name": "stdout",
     "output_type": "stream",
     "text": [
      "Logistic regression\n",
      "using {0: 0.2, 1: 0.8} weight ratio\n",
      "Logistic regression 0.91\n",
      "Logistic regression F1 Score: 0.47\n",
      "\n"
     ]
    },
    {
     "name": "stderr",
     "output_type": "stream",
     "text": [
      "/opt/anaconda3/lib/python3.8/site-packages/sklearn/linear_model/_logistic.py:458: ConvergenceWarning: lbfgs failed to converge (status=1):\n",
      "STOP: TOTAL NO. of ITERATIONS REACHED LIMIT.\n",
      "\n",
      "Increase the number of iterations (max_iter) or scale the data as shown in:\n",
      "    https://scikit-learn.org/stable/modules/preprocessing.html\n",
      "Please also refer to the documentation for alternative solver options:\n",
      "    https://scikit-learn.org/stable/modules/linear_model.html#logistic-regression\n",
      "  n_iter_i = _check_optimize_result(\n"
     ]
    },
    {
     "data": {
      "image/png": "[encoded data removed]",
      "text/plain": [
       "<Figure size 432x288 with 2 Axes>"
      ]
     },
     "metadata": {
      "needs_background": "light"
     },
     "output_type": "display_data"
    },
    {
     "name": "stdout",
     "output_type": "stream",
     "text": [
      "Logistic regression\n",
      "using {0: 0.3, 1: 0.7} weight ratio\n",
      "Logistic regression 0.92425\n",
      "Logistic regression F1 Score: 0.42\n",
      "\n"
     ]
    },
    {
     "name": "stderr",
     "output_type": "stream",
     "text": [
      "/opt/anaconda3/lib/python3.8/site-packages/sklearn/linear_model/_logistic.py:458: ConvergenceWarning: lbfgs failed to converge (status=1):\n",
      "STOP: TOTAL NO. of ITERATIONS REACHED LIMIT.\n",
      "\n",
      "Increase the number of iterations (max_iter) or scale the data as shown in:\n",
      "    https://scikit-learn.org/stable/modules/preprocessing.html\n",
      "Please also refer to the documentation for alternative solver options:\n",
      "    https://scikit-learn.org/stable/modules/linear_model.html#logistic-regression\n",
      "  n_iter_i = _check_optimize_result(\n"
     ]
    },
    {
     "data": {
      "image/png": "[encoded data removed]",
      "text/plain": [
       "<Figure size 432x288 with 2 Axes>"
      ]
     },
     "metadata": {
      "needs_background": "light"
     },
     "output_type": "display_data"
    },
    {
     "name": "stdout",
     "output_type": "stream",
     "text": [
      "Logistic regression\n",
      "using {0: 0.4, 1: 0.6} weight ratio\n",
      "Logistic regression 0.929125\n",
      "Logistic regression F1 Score: 0.35\n",
      "\n"
     ]
    },
    {
     "name": "stderr",
     "output_type": "stream",
     "text": [
      "/opt/anaconda3/lib/python3.8/site-packages/sklearn/linear_model/_logistic.py:458: ConvergenceWarning: lbfgs failed to converge (status=1):\n",
      "STOP: TOTAL NO. of ITERATIONS REACHED LIMIT.\n",
      "\n",
      "Increase the number of iterations (max_iter) or scale the data as shown in:\n",
      "    https://scikit-learn.org/stable/modules/preprocessing.html\n",
      "Please also refer to the documentation for alternative solver options:\n",
      "    https://scikit-learn.org/stable/modules/linear_model.html#logistic-regression\n",
      "  n_iter_i = _check_optimize_result(\n"
     ]
    },
    {
     "data": {
      "image/png": "[encoded data removed]",
      "text/plain": [
       "<Figure size 432x288 with 2 Axes>"
      ]
     },
     "metadata": {
      "needs_background": "light"
     },
     "output_type": "display_data"
    },
    {
     "name": "stdout",
     "output_type": "stream",
     "text": [
      "Logistic regression\n",
      "using {0: 0.5, 1: 0.5} weight ratio\n",
      "Logistic regression 0.92875\n",
      "Logistic regression F1 Score: 0.32\n",
      "\n"
     ]
    },
    {
     "name": "stderr",
     "output_type": "stream",
     "text": [
      "/opt/anaconda3/lib/python3.8/site-packages/sklearn/linear_model/_logistic.py:458: ConvergenceWarning: lbfgs failed to converge (status=1):\n",
      "STOP: TOTAL NO. of ITERATIONS REACHED LIMIT.\n",
      "\n",
      "Increase the number of iterations (max_iter) or scale the data as shown in:\n",
      "    https://scikit-learn.org/stable/modules/preprocessing.html\n",
      "Please also refer to the documentation for alternative solver options:\n",
      "    https://scikit-learn.org/stable/modules/linear_model.html#logistic-regression\n",
      "  n_iter_i = _check_optimize_result(\n"
     ]
    },
    {
     "data": {
      "image/png": "[encoded data removed]",
      "text/plain": [
       "<Figure size 432x288 with 2 Axes>"
      ]
     },
     "metadata": {
      "needs_background": "light"
     },
     "output_type": "display_data"
    }
   ],
   "source": [
    "#changing class weights to assign higher weight to the minority class in log reg\n",
    "changing_weights_LR(X_train, X_test, y_train, y_test, {0: 0.1, 1: 0.9})\n",
    "changing_weights_LR(X_train, X_test, y_train, y_test, {0: 0.2, 1: 0.8})\n",
    "changing_weights_LR(X_train, X_test, y_train, y_test, {0: 0.3, 1: 0.7})\n",
    "changing_weights_LR(X_train, X_test, y_train, y_test, {0: 0.4, 1: 0.6})\n",
    "changing_weights_LR(X_train, X_test, y_train, y_test, {0: 0.5, 1: 0.5})"
   ]
  },
  {
   "cell_type": "markdown",
   "id": "9e446cbe",
   "metadata": {},
   "source": [
    "Using class weights {0: 0.2, 1: 0.8} led to best F1 (0.47) and accuracy results (91%)"
   ]
  },
  {
   "cell_type": "markdown",
   "id": "c51e0f6b",
   "metadata": {},
   "source": [
    "Results: Class weights was the best technique here"
   ]
  },
  {
   "cell_type": "markdown",
   "id": "3ce5a9c7",
   "metadata": {},
   "source": [
    "# Trying to improve XGBoost"
   ]
  },
  {
   "cell_type": "code",
   "execution_count": 29,
   "id": "92f74e80",
   "metadata": {},
   "outputs": [],
   "source": [
    "def xg_boost_plot(X_train, X_test, y_train, y_test, plot=True):\n",
    "    print('XGBoost')\n",
    "    # Create a XGBoost classifier\n",
    "    clf = xgb.XGBClassifier()\n",
    "    clf.fit(X_train, y_train)\n",
    "    \n",
    "    # Predict probabilities for the test set\n",
    "    probabilities = clf.predict_proba(X_test)\n",
    "\n",
    "    # Print the first 10 probabilities\n",
    "    print('test', list(y_test)[:10])\n",
    "    print('probs', probabilities[:10])\n",
    "\n",
    "    print('using predict function')\n",
    "    y_pred = clf.predict(X_test)\n",
    "    print('prediction', y_pred[:10])\n",
    "    accuracy = accuracy_score(y_test, y_pred)\n",
    "#     d[k] =  accuracy\n",
    "    print('accuracy', accuracy)\n",
    "    f1 = f1_score(y_test, y_pred, pos_label=1)\n",
    "    print(f\"F1 Score: {f1:.2f}\\n\")\n",
    "    \n",
    "    cnf_matrix = metrics.confusion_matrix(y_test, y_pred)\n",
    "    if plot:\n",
    "        class_names=[0,1] # name  of classes\n",
    "        fig, ax = plt.subplots()\n",
    "        tick_marks = np.arange(len(class_names))\n",
    "        plt.xticks(tick_marks, class_names)\n",
    "        plt.yticks(tick_marks, class_names)\n",
    "        # create heatmap\n",
    "        sns.heatmap(pd.DataFrame(cnf_matrix), annot=True, cmap=\"YlGnBu\" ,fmt='g')\n",
    "        ax.xaxis.set_label_position(\"top\")\n",
    "        plt.tight_layout()\n",
    "        plt.title('Confusion matrix', y=1.1)\n",
    "        plt.ylabel('Actual label')\n",
    "        plt.xlabel('Predicted label')\n",
    "        plt.show()\n",
    "\n"
   ]
  },
  {
   "cell_type": "code",
   "execution_count": 30,
   "id": "74c3a449",
   "metadata": {},
   "outputs": [
    {
     "name": "stdout",
     "output_type": "stream",
     "text": [
      "XGBoost\n",
      "test [0, 0, 1, 0, 0, 0, 0, 0, 1, 1]\n",
      "probs [[9.9984974e-01 1.5026936e-04]\n",
      " [9.7870499e-01 2.1294987e-02]\n",
      " [5.2359354e-01 4.7640648e-01]\n",
      " [9.9558252e-01 4.4174911e-03]\n",
      " [9.9940550e-01 5.9450656e-04]\n",
      " [9.9912143e-01 8.7855087e-04]\n",
      " [9.9975377e-01 2.4622676e-04]\n",
      " [9.9030203e-01 9.6979924e-03]\n",
      " [3.9240038e-01 6.0759962e-01]\n",
      " [4.8267102e-01 5.1732898e-01]]\n",
      "using predict function\n",
      "prediction [0 0 0 0 0 0 0 0 1 1]\n",
      "accuracy 0.93225\n",
      "F1 Score: 0.47\n",
      "\n"
     ]
    },
    {
     "data": {
      "image/png": "[encoded data removed]",
      "text/plain": [
       "<Figure size 432x288 with 2 Axes>"
      ]
     },
     "metadata": {
      "needs_background": "light"
     },
     "output_type": "display_data"
    },
    {
     "name": "stdout",
     "output_type": "stream",
     "text": [
      "XGBoost\n",
      "test [0, 0, 0, 0, 0, 0, 0, 0, 0, 0]\n",
      "probs [[5.1427966e-01 4.8572034e-01]\n",
      " [9.9987900e-01 1.2099251e-04]\n",
      " [9.9481457e-01 5.1854015e-03]\n",
      " [8.0947804e-01 1.9052199e-01]\n",
      " [9.9777162e-01 2.2283769e-03]\n",
      " [9.9721110e-01 2.7889023e-03]\n",
      " [8.8512033e-01 1.1487967e-01]\n",
      " [9.9942613e-01 5.7386869e-04]\n",
      " [9.9730051e-01 2.6995093e-03]\n",
      " [8.2568747e-01 1.7431255e-01]]\n",
      "using predict function\n",
      "prediction [0 0 0 0 0 0 0 0 0 0]\n",
      "accuracy 0.919875\n",
      "F1 Score: 0.55\n",
      "\n"
     ]
    },
    {
     "data": {
      "image/png": "[encoded data removed]",
      "text/plain": [
       "<Figure size 432x288 with 2 Axes>"
      ]
     },
     "metadata": {
      "needs_background": "light"
     },
     "output_type": "display_data"
    },
    {
     "name": "stdout",
     "output_type": "stream",
     "text": [
      "XGBoost\n",
      "test [0, 0, 0, 0, 0, 0, 0, 0, 0, 0]\n",
      "probs [[9.99360204e-01 6.39812497e-04]\n",
      " [9.89099622e-01 1.09003531e-02]\n",
      " [9.99616504e-01 3.83510196e-04]\n",
      " [9.93485153e-01 6.51483797e-03]\n",
      " [9.93624806e-01 6.37520477e-03]\n",
      " [1.09529674e-01 8.90470326e-01]\n",
      " [9.99972403e-01 2.76003902e-05]\n",
      " [9.15583789e-01 8.44162256e-02]\n",
      " [2.76450574e-01 7.23549426e-01]\n",
      " [9.77041781e-01 2.29582470e-02]]\n",
      "using predict function\n",
      "prediction [0 0 0 0 0 1 0 0 1 0]\n",
      "accuracy 0.906\n",
      "F1 Score: 0.54\n",
      "\n"
     ]
    },
    {
     "data": {
      "image/png": "[encoded data removed]",
      "text/plain": [
       "<Figure size 432x288 with 2 Axes>"
      ]
     },
     "metadata": {
      "needs_background": "light"
     },
     "output_type": "display_data"
    }
   ],
   "source": [
    "#comparing upsampling/downsampling on logistic regression\n",
    "xg_boost_plot(X_train, X_test, y_train, y_test, plot=True)\n",
    "xg_boost_plot(X_train_resampled1, X_test1, y_train_resampled1, y_test1, plot=True)\n",
    "xg_boost_plot(X_train_resampled2, X_test2, y_train_resampled2, y_test2, plot=True)"
   ]
  },
  {
   "cell_type": "markdown",
   "id": "77d114af",
   "metadata": {},
   "source": [
    "resampled1 with 3x upsampling and downsampling by half worked best for F1 (0.55) and accuracy (91.9%)"
   ]
  },
  {
   "cell_type": "code",
   "execution_count": 33,
   "id": "d8e6ed86",
   "metadata": {},
   "outputs": [],
   "source": [
    "#test different models on data\n",
    "def changing_threshold_XG(X_train, X_test, y_train, y_test, threshold):\n",
    "    print('XG Boost')\n",
    "    # Create a XGBoost classifier\n",
    "    clf = xgb.XGBClassifier()\n",
    "    clf.fit(X_train, y_train)\n",
    "    \n",
    "    # Predict probabilities for the test set\n",
    "    probabilities = clf.predict_proba(X_test)\n",
    "\n",
    "    # Print the first 10 probabilities\n",
    "    print('test', list(y_test)[:10])\n",
    "    print('probs', probabilities[:10])\n",
    "\n",
    "\n",
    "    print(f'using {threshold} threshold')\n",
    "    y_pred = (probabilities[:, 1] >= threshold).astype(int)\n",
    "    print('new pred', y_pred[:10])\n",
    "    accuracy = accuracy_score(y_test, y_pred)\n",
    "    k = \"XGBoost\"\n",
    "#     d[k] =  accuracy\n",
    "    print(k, accuracy)\n",
    "    f1 = f1_score(y_test, y_pred, pos_label=1)\n",
    "    print(f\"{k} F1 Score: {f1:.2f}\\n\")\n",
    "    \n",
    "    cnf_matrix = metrics.confusion_matrix(y_test, y_pred)\n",
    "    plot = True\n",
    "    if plot:\n",
    "        class_names=[0,1] # name  of classes\n",
    "        fig, ax = plt.subplots()\n",
    "        tick_marks = np.arange(len(class_names))\n",
    "        plt.xticks(tick_marks, class_names)\n",
    "        plt.yticks(tick_marks, class_names)\n",
    "        # create heatmap\n",
    "        sns.heatmap(pd.DataFrame(cnf_matrix), annot=True, cmap=\"YlGnBu\" ,fmt='g')\n",
    "        ax.xaxis.set_label_position(\"top\")\n",
    "        plt.tight_layout()\n",
    "        plt.title('Confusion matrix', y=1.1)\n",
    "        plt.ylabel('Actual label')\n",
    "        plt.xlabel('Predicted label')\n",
    "        plt.show()\n"
   ]
  },
  {
   "cell_type": "code",
   "execution_count": 34,
   "id": "23758d2a",
   "metadata": {},
   "outputs": [
    {
     "name": "stdout",
     "output_type": "stream",
     "text": [
      "XG Boost\n",
      "test [0, 0, 1, 0, 0, 0, 0, 0, 1, 1]\n",
      "probs [[9.9984974e-01 1.5026936e-04]\n",
      " [9.7870499e-01 2.1294987e-02]\n",
      " [5.2359354e-01 4.7640648e-01]\n",
      " [9.9558252e-01 4.4174911e-03]\n",
      " [9.9940550e-01 5.9450656e-04]\n",
      " [9.9912143e-01 8.7855087e-04]\n",
      " [9.9975377e-01 2.4622676e-04]\n",
      " [9.9030203e-01 9.6979924e-03]\n",
      " [3.9240038e-01 6.0759962e-01]\n",
      " [4.8267102e-01 5.1732898e-01]]\n",
      "using 0.1 threshold\n",
      "new pred [0 0 1 0 0 0 0 0 1 1]\n",
      "XGBoost 0.891875\n",
      "XGBoost F1 Score: 0.53\n",
      "\n"
     ]
    },
    {
     "data": {
      "image/png": "[encoded data removed]",
      "text/plain": [
       "<Figure size 432x288 with 2 Axes>"
      ]
     },
     "metadata": {
      "needs_background": "light"
     },
     "output_type": "display_data"
    },
    {
     "name": "stdout",
     "output_type": "stream",
     "text": [
      "XG Boost\n",
      "test [0, 0, 1, 0, 0, 0, 0, 0, 1, 1]\n",
      "probs [[9.9984974e-01 1.5026936e-04]\n",
      " [9.7870499e-01 2.1294987e-02]\n",
      " [5.2359354e-01 4.7640648e-01]\n",
      " [9.9558252e-01 4.4174911e-03]\n",
      " [9.9940550e-01 5.9450656e-04]\n",
      " [9.9912143e-01 8.7855087e-04]\n",
      " [9.9975377e-01 2.4622676e-04]\n",
      " [9.9030203e-01 9.6979924e-03]\n",
      " [3.9240038e-01 6.0759962e-01]\n",
      " [4.8267102e-01 5.1732898e-01]]\n",
      "using 0.2 threshold\n",
      "new pred [0 0 1 0 0 0 0 0 1 1]\n",
      "XGBoost 0.913875\n",
      "XGBoost F1 Score: 0.55\n",
      "\n"
     ]
    },
    {
     "data": {
      "image/png": "[encoded data removed]",
      "text/plain": [
       "<Figure size 432x288 with 2 Axes>"
      ]
     },
     "metadata": {
      "needs_background": "light"
     },
     "output_type": "display_data"
    },
    {
     "name": "stdout",
     "output_type": "stream",
     "text": [
      "XG Boost\n",
      "test [0, 0, 1, 0, 0, 0, 0, 0, 1, 1]\n",
      "probs [[9.9984974e-01 1.5026936e-04]\n",
      " [9.7870499e-01 2.1294987e-02]\n",
      " [5.2359354e-01 4.7640648e-01]\n",
      " [9.9558252e-01 4.4174911e-03]\n",
      " [9.9940550e-01 5.9450656e-04]\n",
      " [9.9912143e-01 8.7855087e-04]\n",
      " [9.9975377e-01 2.4622676e-04]\n",
      " [9.9030203e-01 9.6979924e-03]\n",
      " [3.9240038e-01 6.0759962e-01]\n",
      " [4.8267102e-01 5.1732898e-01]]\n",
      "using 0.3 threshold\n",
      "new pred [0 0 1 0 0 0 0 0 1 1]\n",
      "XGBoost 0.92425\n",
      "XGBoost F1 Score: 0.55\n",
      "\n"
     ]
    },
    {
     "data": {
      "image/png": "[encoded data removed]",
      "text/plain": [
       "<Figure size 432x288 with 2 Axes>"
      ]
     },
     "metadata": {
      "needs_background": "light"
     },
     "output_type": "display_data"
    },
    {
     "name": "stdout",
     "output_type": "stream",
     "text": [
      "XG Boost\n",
      "test [0, 0, 1, 0, 0, 0, 0, 0, 1, 1]\n",
      "probs [[9.9984974e-01 1.5026936e-04]\n",
      " [9.7870499e-01 2.1294987e-02]\n",
      " [5.2359354e-01 4.7640648e-01]\n",
      " [9.9558252e-01 4.4174911e-03]\n",
      " [9.9940550e-01 5.9450656e-04]\n",
      " [9.9912143e-01 8.7855087e-04]\n",
      " [9.9975377e-01 2.4622676e-04]\n",
      " [9.9030203e-01 9.6979924e-03]\n",
      " [3.9240038e-01 6.0759962e-01]\n",
      " [4.8267102e-01 5.1732898e-01]]\n",
      "using 0.4 threshold\n",
      "new pred [0 0 1 0 0 0 0 0 1 1]\n",
      "XGBoost 0.930125\n",
      "XGBoost F1 Score: 0.52\n",
      "\n"
     ]
    },
    {
     "data": {
      "image/png": "[encoded data removed]",
      "text/plain": [
       "<Figure size 432x288 with 2 Axes>"
      ]
     },
     "metadata": {
      "needs_background": "light"
     },
     "output_type": "display_data"
    },
    {
     "name": "stdout",
     "output_type": "stream",
     "text": [
      "XG Boost\n",
      "test [0, 0, 1, 0, 0, 0, 0, 0, 1, 1]\n",
      "probs [[9.9984974e-01 1.5026936e-04]\n",
      " [9.7870499e-01 2.1294987e-02]\n",
      " [5.2359354e-01 4.7640648e-01]\n",
      " [9.9558252e-01 4.4174911e-03]\n",
      " [9.9940550e-01 5.9450656e-04]\n",
      " [9.9912143e-01 8.7855087e-04]\n",
      " [9.9975377e-01 2.4622676e-04]\n",
      " [9.9030203e-01 9.6979924e-03]\n",
      " [3.9240038e-01 6.0759962e-01]\n",
      " [4.8267102e-01 5.1732898e-01]]\n",
      "using 0.5 threshold\n",
      "new pred [0 0 0 0 0 0 0 0 1 1]\n",
      "XGBoost 0.93225\n",
      "XGBoost F1 Score: 0.47\n",
      "\n"
     ]
    },
    {
     "data": {
      "image/png": "[encoded data removed]",
      "text/plain": [
       "<Figure size 432x288 with 2 Axes>"
      ]
     },
     "metadata": {
      "needs_background": "light"
     },
     "output_type": "display_data"
    }
   ],
   "source": [
    "#changing threshold in probability score in log reg\n",
    "changing_threshold_XG(X_train, X_test, y_train, y_test, 0.1)\n",
    "changing_threshold_XG(X_train, X_test, y_train, y_test, 0.2)\n",
    "changing_threshold_XG(X_train, X_test, y_train, y_test, 0.3)\n",
    "changing_threshold_XG(X_train, X_test, y_train, y_test, 0.4)\n",
    "changing_threshold_XG(X_train, X_test, y_train, y_test, 0.5)"
   ]
  },
  {
   "cell_type": "markdown",
   "id": "e7ce407e",
   "metadata": {},
   "source": [
    "Using threshold 0.3 gave best F1 (0.55) and accuracy results (92.4%)"
   ]
  },
  {
   "cell_type": "code",
   "execution_count": 38,
   "id": "f5ecd350",
   "metadata": {},
   "outputs": [],
   "source": [
    "#test different models on data\n",
    "def changing_weights_XG(X_train, X_test, y_train, y_test, weight):\n",
    "    print('XG Boost')\n",
    "    # Create a XGBoost classifier\n",
    "    clf = xgb.XGBClassifier(scale_pos_weight=weight)\n",
    "    clf.fit(X_train, y_train)\n",
    "    \n",
    "#     # Predict probabilities for the test set\n",
    "#     probabilities = clf.predict_proba(X_test)\n",
    "\n",
    "#     # Print the first 10 probabilities\n",
    "#     print('test', list(y_test)[:10])\n",
    "#     print('probs', probabilities[:10])\n",
    "\n",
    "    \n",
    "    print(f'using {weight} as weight')\n",
    "    y_pred = clf.predict(X_test)\n",
    "    accuracy = accuracy_score(y_test, y_pred)\n",
    "    k = \"XG Boost\"\n",
    "#     d[k] =  accuracy\n",
    "    print(k, accuracy)\n",
    "    f1 = f1_score(y_test, y_pred, pos_label=1)\n",
    "    print(f\"{k} F1 Score: {f1:.2f}\\n\")\n",
    "    \n",
    "    cnf_matrix = metrics.confusion_matrix(y_test, y_pred)\n",
    "    plot = True\n",
    "    if plot:\n",
    "        class_names=[0,1] # name  of classes\n",
    "        fig, ax = plt.subplots()\n",
    "        tick_marks = np.arange(len(class_names))\n",
    "        plt.xticks(tick_marks, class_names)\n",
    "        plt.yticks(tick_marks, class_names)\n",
    "        # create heatmap\n",
    "        sns.heatmap(pd.DataFrame(cnf_matrix), annot=True, cmap=\"YlGnBu\" ,fmt='g')\n",
    "        ax.xaxis.set_label_position(\"top\")\n",
    "        plt.tight_layout()\n",
    "        plt.title('Confusion matrix', y=1.1)\n",
    "        plt.ylabel('Actual label')\n",
    "        plt.xlabel('Predicted label')\n",
    "        plt.show()\n"
   ]
  },
  {
   "cell_type": "code",
   "execution_count": 41,
   "id": "ac923868",
   "metadata": {},
   "outputs": [
    {
     "name": "stdout",
     "output_type": "stream",
     "text": [
      "XG Boost\n",
      "using 9.5 as weight\n",
      "XG Boost 0.90475\n",
      "XG Boost F1 Score: 0.53\n",
      "\n"
     ]
    },
    {
     "data": {
      "image/png": "[encoded data removed]",
      "text/plain": [
       "<Figure size 432x288 with 2 Axes>"
      ]
     },
     "metadata": {
      "needs_background": "light"
     },
     "output_type": "display_data"
    },
    {
     "name": "stdout",
     "output_type": "stream",
     "text": [
      "XG Boost\n",
      "using 9 as weight\n",
      "XG Boost 0.907875\n",
      "XG Boost F1 Score: 0.54\n",
      "\n"
     ]
    },
    {
     "data": {
      "image/png": "[encoded data removed]",
      "text/plain": [
       "<Figure size 432x288 with 2 Axes>"
      ]
     },
     "metadata": {
      "needs_background": "light"
     },
     "output_type": "display_data"
    },
    {
     "name": "stdout",
     "output_type": "stream",
     "text": [
      "XG Boost\n",
      "using 8.5 as weight\n",
      "XG Boost 0.91075\n",
      "XG Boost F1 Score: 0.55\n",
      "\n"
     ]
    },
    {
     "data": {
      "image/png": "[encoded data removed]",
      "text/plain": [
       "<Figure size 432x288 with 2 Axes>"
      ]
     },
     "metadata": {
      "needs_background": "light"
     },
     "output_type": "display_data"
    },
    {
     "name": "stdout",
     "output_type": "stream",
     "text": [
      "XG Boost\n",
      "using 8 as weight\n",
      "XG Boost 0.9145\n",
      "XG Boost F1 Score: 0.56\n",
      "\n"
     ]
    },
    {
     "data": {
      "image/png": "[encoded data removed]",
      "text/plain": [
       "<Figure size 432x288 with 2 Axes>"
      ]
     },
     "metadata": {
      "needs_background": "light"
     },
     "output_type": "display_data"
    },
    {
     "name": "stdout",
     "output_type": "stream",
     "text": [
      "XG Boost\n",
      "using 7.5 as weight\n",
      "XG Boost 0.910375\n",
      "XG Boost F1 Score: 0.54\n",
      "\n"
     ]
    },
    {
     "data": {
      "image/png": "[encoded data removed]",
      "text/plain": [
       "<Figure size 432x288 with 2 Axes>"
      ]
     },
     "metadata": {
      "needs_background": "light"
     },
     "output_type": "display_data"
    }
   ],
   "source": [
    "#changing class weights to assign higher weight to the minority class in log reg\n",
    "changing_weights_XG(X_train, X_test, y_train, y_test, 9.5)\n",
    "changing_weights_XG(X_train, X_test, y_train, y_test, 9)\n",
    "changing_weights_XG(X_train, X_test, y_train, y_test, 8.5)\n",
    "changing_weights_XG(X_train, X_test, y_train, y_test, 8)\n",
    "changing_weights_XG(X_train, X_test, y_train, y_test, 7.5)"
   ]
  },
  {
   "cell_type": "markdown",
   "id": "c2db4f49",
   "metadata": {},
   "source": [
    "Using weight 8 led to best F1 (0.56) and accuracy results (91.4%)"
   ]
  },
  {
   "cell_type": "markdown",
   "id": "eb540de7",
   "metadata": {},
   "source": [
    "Changing weights was the best technique here"
   ]
  },
  {
   "cell_type": "code",
   "execution_count": 43,
   "id": "17690b27",
   "metadata": {},
   "outputs": [
    {
     "name": "stdout",
     "output_type": "stream",
     "text": [
      "Resampled data with 0.2 test size, testing different models\n",
      "Difference in model accuracy\n",
      "Logistic Regression 0.89775\n",
      "Logistic Regression F1 Score: 0.45\n",
      "\n"
     ]
    },
    {
     "name": "stderr",
     "output_type": "stream",
     "text": [
      "/opt/anaconda3/lib/python3.8/site-packages/sklearn/linear_model/_logistic.py:458: ConvergenceWarning: lbfgs failed to converge (status=1):\n",
      "STOP: TOTAL NO. of ITERATIONS REACHED LIMIT.\n",
      "\n",
      "Increase the number of iterations (max_iter) or scale the data as shown in:\n",
      "    https://scikit-learn.org/stable/modules/preprocessing.html\n",
      "Please also refer to the documentation for alternative solver options:\n",
      "    https://scikit-learn.org/stable/modules/linear_model.html#logistic-regression\n",
      "  n_iter_i = _check_optimize_result(\n",
      "/opt/anaconda3/lib/python3.8/site-packages/sklearn/base.py:402: UserWarning: X has feature names, but LogisticRegression was fitted without feature names\n",
      "  warnings.warn(\n",
      "/opt/anaconda3/lib/python3.8/site-packages/sklearn/base.py:402: UserWarning: X has feature names, but KNeighborsClassifier was fitted without feature names\n",
      "  warnings.warn(\n"
     ]
    },
    {
     "name": "stdout",
     "output_type": "stream",
     "text": [
      "KNN 0.848375\n",
      "KNN F1 Score: 0.35\n",
      "\n",
      "Decision tree 0.909375\n",
      "Decision tree F1 Score: 0.42\n",
      "\n"
     ]
    },
    {
     "name": "stderr",
     "output_type": "stream",
     "text": [
      "/opt/anaconda3/lib/python3.8/site-packages/sklearn/base.py:402: UserWarning: X has feature names, but DecisionTreeClassifier was fitted without feature names\n",
      "  warnings.warn(\n",
      "/opt/anaconda3/lib/python3.8/site-packages/sklearn/base.py:402: UserWarning: X has feature names, but RandomForestClassifier was fitted without feature names\n",
      "  warnings.warn(\n"
     ]
    },
    {
     "name": "stdout",
     "output_type": "stream",
     "text": [
      "Random forest 0.929625\n",
      "Random forest F1 Score: 0.55\n",
      "\n"
     ]
    },
    {
     "name": "stderr",
     "output_type": "stream",
     "text": [
      "/opt/anaconda3/lib/python3.8/site-packages/sklearn/base.py:402: UserWarning: X has feature names, but GradientBoostingClassifier was fitted without feature names\n",
      "  warnings.warn(\n"
     ]
    },
    {
     "name": "stdout",
     "output_type": "stream",
     "text": [
      "Gradient Boosting 0.900625\n",
      "Gradient Boosting F1 Score: 0.52\n",
      "\n",
      "XGBoost 0.900625\n",
      "XGBoost F1 Score: 0.53\n",
      "\n",
      "Max accuracy is Random forest with 0.929625\n"
     ]
    }
   ],
   "source": [
    "#second pass at models\n",
    "print(\"Resampled data with 0.2 test size, testing different models\")\n",
    "compare_models(X_train_resampled1, X_test1, y_train_resampled1, y_test1)"
   ]
  },
  {
   "cell_type": "markdown",
   "id": "937eb45a",
   "metadata": {},
   "source": [
    "## Result for model accuracy and F1"
   ]
  },
  {
   "cell_type": "markdown",
   "id": "8132cd53",
   "metadata": {},
   "source": [
    "XGBoost with changed class weights led to best F1 score (0.56) with good accuracy (91.4%)"
   ]
  },
  {
   "cell_type": "markdown",
   "id": "5768252b",
   "metadata": {},
   "source": [
    "# Cross validation"
   ]
  },
  {
   "cell_type": "code",
   "execution_count": 52,
   "id": "4e1f243b",
   "metadata": {},
   "outputs": [
    {
     "name": "stdout",
     "output_type": "stream",
     "text": [
      "Average score:  0.8733000000000001\n"
     ]
    }
   ],
   "source": [
    "# Create a random forest classifier\n",
    "clf = xgb.XGBClassifier(scale_pos_weight=8)\n",
    "\n",
    "# Define the number of folds\n",
    "n_folds = 5\n",
    "\n",
    "# Create a KFold object with the specified number of folds\n",
    "kf = KFold(n_splits=n_folds)\n",
    "\n",
    "# Perform k-fold cross-validation\n",
    "scores = cross_val_score(clf, X, y, cv=kf)\n",
    "\n",
    "# Print the average score across all folds\n",
    "print(\"Average score: \", np.mean(scores))"
   ]
  },
  {
   "cell_type": "markdown",
   "id": "b26b01ed",
   "metadata": {},
   "source": [
    "# Results\n",
    "5fold cross validation on the best algorithm from the above (XGBoost with class weight=8) gives an average score of 87.3%\n",
    "\n",
    "## To do\n",
    "\n",
    "Bonus(es):\n",
    "\n",
    "We are also interested in finding customers who are more likely to buy the investment product. Determine the segment(s) of customers our client should prioritize.\n",
    "\n",
    "What makes the customers buy? Tell us which feature we should be focusing more on."
   ]
  },
  {
   "cell_type": "code",
   "execution_count": 108,
   "id": "4c1e648f",
   "metadata": {},
   "outputs": [
    {
     "name": "stdout",
     "output_type": "stream",
     "text": [
      "using 8 as weight\n",
      "XG Boost 0.9145\n",
      "XG Boost F1 Score: 0.56\n",
      "\n"
     ]
    },
    {
     "data": {
      "image/png": "[encoded data removed]",
      "text/plain": [
       "<Figure size 432x288 with 1 Axes>"
      ]
     },
     "metadata": {
      "needs_background": "light"
     },
     "output_type": "display_data"
    }
   ],
   "source": [
    "weight = 8\n",
    "clf = xgb.XGBClassifier(scale_pos_weight=weight)\n",
    "clf.fit(X_train, y_train)\n",
    "\n",
    "print(f'using {weight} as weight')\n",
    "y_pred = clf.predict(X_test)\n",
    "accuracy = accuracy_score(y_test, y_pred)\n",
    "k = \"XG Boost\"\n",
    "print(k, accuracy)\n",
    "f1 = f1_score(y_test, y_pred, pos_label=1)\n",
    "print(f\"{k} F1 Score: {f1:.2f}\\n\")\n",
    "xgb.plot_importance(clf)\n",
    "plt.show()\n"
   ]
  },
  {
   "cell_type": "markdown",
   "id": "629ab75c",
   "metadata": {},
   "source": [
    "Based on this we can answer Bonus Q2: The duration of the call influences whether customers buy or not > focus on this feature"
   ]
  },
  {
   "cell_type": "code",
   "execution_count": 120,
   "id": "55ac237f",
   "metadata": {},
   "outputs": [
    {
     "name": "stdout",
     "output_type": "stream",
     "text": [
      "             probabilities\n",
      "balance age               \n",
      "-3058   39        0.940581\n",
      "-1944   51        0.939848\n",
      "-1129   42        0.935190\n",
      "-970    52        0.920805\n",
      "-930    26        0.983928\n",
      "...                    ...\n",
      " 27624  55        0.946876\n",
      " 32685  61        0.996218\n",
      " 34646  32        0.922907\n",
      " 36252  29        0.952284\n",
      " 45248  39        0.914252\n",
      "\n",
      "[2207 rows x 1 columns]\n"
     ]
    }
   ],
   "source": [
    "# Add the predicted probabilities as a new column in the original dataset\n",
    "data['probabilities'] = clf.predict_proba(data.drop('y', axis=1))[:, 1]\n",
    "\n",
    "# Sort the dataset by predicted probabilities in descending order\n",
    "data = data.sort_values('probabilities', ascending=False)\n",
    "\n",
    "# Group the customers by characteristics and calculate the average predicted probability for each group\n",
    "grouped_data = data.groupby(['balance', 'age']).agg({'probabilities': 'mean'})\n",
    "\n",
    "# Identify the segments of customers that are more likely to buy the investment product and prioritize them\n",
    "high_priority_segments = grouped_data[grouped_data['probabilities'] > 0.7]\n",
    "\n",
    "# Print the high-priority segments\n",
    "print(high_priority_segments)\n",
    "\n"
   ]
  },
  {
   "cell_type": "code",
   "execution_count": 112,
   "id": "23afd56f",
   "metadata": {},
   "outputs": [],
   "source": [
    "# bin age and income columns\n",
    "age_bins = [18, 28, 38, 48, 58, 68, 78, 88, 100]\n",
    "age_labels = ['18-28', '28-38', '38-48', '48-58', '58-68', '68-78', '78-88', '88+']\n",
    "data['age_group'] = pd.cut(data['age'], bins=age_bins, labels=age_labels)\n",
    "\n",
    "balance_bins = [-9000, 0, 10000, 20000, 30000, 40000, 50000, 60000, 70000, 80000,90000,100000,110000]\n",
    "balance_labels = ['neg', '0-10k', '10-20k','20-30k','30-40k','40-50k', '50-60k', '60-70k', '70-80k','80-90k','90-100k', '100k+']\n",
    "data['balance_group'] = pd.cut(data['balance'], bins=balance_bins, labels=balance_labels)\n",
    "\n",
    "# group by age and income groups\n",
    "new_grouped_data = data.groupby(['age_group', 'balance_group']).agg({'probabilities': 'mean'})\n"
   ]
  },
  {
   "cell_type": "code",
   "execution_count": 113,
   "id": "94b861e2",
   "metadata": {},
   "outputs": [
    {
     "name": "stdout",
     "output_type": "stream",
     "text": [
      "                         probabilities\n",
      "age_group balance_group               \n",
      "78-88     10-20k              0.996982\n",
      "88+       0-10k               0.762964\n"
     ]
    }
   ],
   "source": [
    "# Identify the segments of customers that are more likely to buy the investment product and prioritize them\n",
    "new_high_priority_segments = new_grouped_data[new_grouped_data['probabilities'] > 0.7]\n",
    "\n",
    "# Print the high-priority segments\n",
    "print(new_high_priority_segments)"
   ]
  },
  {
   "cell_type": "markdown",
   "id": "1a6664ac",
   "metadata": {},
   "source": [
    "Based on this we can answer Bonus Q1: the above segments have a high probability (>0.7) of buying the product so the client should focus on them. Another suggestion is to look at the class of clients in the model results that were predicted to buy the product but havent (false positives). These might also be good candidates for buying product."
   ]
  },
  {
   "cell_type": "code",
   "execution_count": null,
   "id": "c4411440",
   "metadata": {},
   "outputs": [],
   "source": []
  },
  {
   "cell_type": "code",
   "execution_count": null,
   "id": "8b286a5f",
   "metadata": {},
   "outputs": [],
   "source": []
  },
  {
   "cell_type": "code",
   "execution_count": null,
   "id": "06b84393",
   "metadata": {},
   "outputs": [],
   "source": []
  }
 ],
 "metadata": {
  "kernelspec": {
   "display_name": "Python 3",
   "language": "python",
   "name": "python3"
  },
  "language_info": {
   "codemirror_mode": {
    "name": "ipython",
    "version": 3
   },
   "file_extension": ".py",
   "mimetype": "text/x-python",
   "name": "python",
   "nbconvert_exporter": "python",
   "pygments_lexer": "ipython3",
   "version": "3.8.8"
  }
 },
 "nbformat": 4,
 "nbformat_minor": 5
}
